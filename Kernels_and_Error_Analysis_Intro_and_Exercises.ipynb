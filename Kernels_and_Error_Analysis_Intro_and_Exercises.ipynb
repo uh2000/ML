{
  "nbformat": 4,
  "nbformat_minor": 0,
  "metadata": {
    "colab": {
      "provenance": [],
      "include_colab_link": true
    },
    "kernelspec": {
      "name": "python3",
      "display_name": "Python 3"
    },
    "language_info": {
      "name": "python"
    }
  },
  "cells": [
    {
      "cell_type": "markdown",
      "metadata": {
        "id": "view-in-github",
        "colab_type": "text"
      },
      "source": [
        "<a href=\"https://colab.research.google.com/github/uh2000/ML/blob/main/Kernels_and_Error_Analysis_Intro_and_Exercises.ipynb\" target=\"_parent\"><img src=\"https://colab.research.google.com/assets/colab-badge.svg\" alt=\"Open In Colab\"/></a>"
      ]
    },
    {
      "cell_type": "markdown",
      "source": [
        "# Theory\n",
        "\n",
        "So far we worked with tabular data. Today we try something different, i.e.,  *image classification*. As a task, we aim to predict *digits* provided by the *MNIST* dataset, a popular dataset used in Machine Learning to test new algorithms.\n",
        "\n",
        "We will now import it and see how such digits look like (after having loaded all relevant libraries)."
      ],
      "metadata": {
        "id": "rmyGEY8HbAPf"
      }
    },
    {
      "cell_type": "code",
      "source": [
        "# SETUP\n",
        "# install python 3.10\n",
        "!apt-get install python3.10\n",
        "\n",
        "# update symbolic links to the newly installed python version\n",
        "!ln -sf /usr/bin/python3.10 /usr/bin/python\n",
        "!ln -sf /usr/bin/python3.10 /usr/bin/python3\n",
        "\n",
        "# install numpy 1.23.5\n",
        "%pip install numpy==1.23.5\n",
        "# install scikit-learn 1.2.2\n",
        "%pip install scikit-learn==1.2.2\n",
        "# install keras 2.13.1\n",
        "%pip install keras==2.13.1\n",
        "# install tensorflow 2.13.0\n",
        "%pip install tensorflow==2.13.0"
      ],
      "metadata": {
        "id": "smZTnmiDEn85"
      },
      "execution_count": null,
      "outputs": []
    },
    {
      "cell_type": "code",
      "metadata": {
        "id": "0UIo9Y_bcT8s"
      },
      "source": [
        "# import libraries\n",
        "import matplotlib.pyplot as plt\n",
        "from sklearn import datasets\n",
        "from sklearn.model_selection import train_test_split"
      ],
      "execution_count": null,
      "outputs": []
    },
    {
      "cell_type": "code",
      "execution_count": null,
      "metadata": {
        "colab": {
          "base_uri": "https://localhost:8080/",
          "height": 168
        },
        "id": "qALJiYNCalua",
        "outputId": "b93c83e6-a38a-43c1-97e3-c869471200f3"
      },
      "outputs": [
        {
          "output_type": "display_data",
          "data": {
            "text/plain": [
              "<Figure size 720x216 with 4 Axes>"
            ],
            "image/png": "[encoded data removed]"
          },
          "metadata": {
            "needs_background": "light"
          }
        }
      ],
      "source": [
        "# load dataset\n",
        "digits = datasets.load_digits()\n",
        "\n",
        "# visualize dataset\n",
        "_, axes = plt.subplots(nrows=1, ncols=4, figsize=(10, 3))\n",
        "for ax, image, label in zip(axes, digits.images, digits.target):\n",
        "    ax.set_axis_off()\n",
        "    ax.imshow(image, cmap=plt.cm.gray_r, interpolation=\"nearest\")\n",
        "    ax.set_title(\"Training: %i\" % label)"
      ]
    },
    {
      "cell_type": "code",
      "source": [
        "# Split data into 80% train+validation and 20% test subsets\n",
        "X_train_val, X_test, y_train_val, y_test = train_test_split(\n",
        "    digits.data, digits.target, test_size=0.2, shuffle=False\n",
        ")\n",
        "\n",
        "# Split the train+validation into 80% train and 20% validation subsets\n",
        "X_train, X_val, y_train, y_val = train_test_split(\n",
        "    X_train_val, y_train_val, test_size=0.2, shuffle=False\n",
        ")\n",
        "\n",
        "len(X_train), len(X_val), len(X_test)"
      ],
      "metadata": {
        "colab": {
          "base_uri": "https://localhost:8080/"
        },
        "id": "D1JO5OBehX0u",
        "outputId": "be74035f-e431-4268-f255-d626b1935cfe"
      },
      "execution_count": null,
      "outputs": [
        {
          "output_type": "execute_result",
          "data": {
            "text/plain": [
              "(1149, 288, 360)"
            ]
          },
          "metadata": {},
          "execution_count": 63
        }
      ]
    },
    {
      "cell_type": "markdown",
      "source": [
        "We can visualize one example --- how a data sample looks like."
      ],
      "metadata": {
        "id": "A5a-lm9nhhDF"
      }
    },
    {
      "cell_type": "code",
      "source": [
        "X_train[0].shape"
      ],
      "metadata": {
        "colab": {
          "base_uri": "https://localhost:8080/"
        },
        "id": "EOx-ZnX9hePF",
        "outputId": "c28fcd39-7943-430d-ec6a-965c0d96f265"
      },
      "execution_count": null,
      "outputs": [
        {
          "output_type": "execute_result",
          "data": {
            "text/plain": [
              "(64,)"
            ]
          },
          "metadata": {},
          "execution_count": 64
        }
      ]
    },
    {
      "cell_type": "code",
      "source": [
        "X_train[0]"
      ],
      "metadata": {
        "colab": {
          "base_uri": "https://localhost:8080/"
        },
        "id": "znM8YJkuhqpJ",
        "outputId": "e5831d9e-165c-4da6-f68f-68944eacf723"
      },
      "execution_count": null,
      "outputs": [
        {
          "output_type": "execute_result",
          "data": {
            "text/plain": [
              "array([ 0.,  0.,  5., 13.,  9.,  1.,  0.,  0.,  0.,  0., 13., 15., 10.,\n",
              "       15.,  5.,  0.,  0.,  3., 15.,  2.,  0., 11.,  8.,  0.,  0.,  4.,\n",
              "       12.,  0.,  0.,  8.,  8.,  0.,  0.,  5.,  8.,  0.,  0.,  9.,  8.,\n",
              "        0.,  0.,  4., 11.,  0.,  1., 12.,  7.,  0.,  0.,  2., 14.,  5.,\n",
              "       10., 12.,  0.,  0.,  0.,  0.,  6., 13., 10.,  0.,  0.,  0.])"
            ]
          },
          "metadata": {},
          "execution_count": 65
        }
      ]
    },
    {
      "cell_type": "markdown",
      "source": [
        "It's a 1-dimensional array containing 64 integers, each representing the grey value of the corresponding pixel (the images were originally 8x8 pixels, but they have been flattened into a 1-dimensional array to use them more easily with the ML algorithms in Sklearn).\n",
        "We can now begin to train a Support Vector Machine for classifying the digits.\n",
        "We use a *polynomial kernel*: $K_{poly}(x_1, x_2) = (x_1^T x_2+e)^d$, where $d$ and $e$ are named *degree* and *coef0* in Sklearn, respectively. The parameter $e$ usually take the values {0,1}, while $d\\geq 1$ indicates that we are considering d-tuples of the input elements. When $d=1, e=0$ we get a special case called *linear kernel* (the $\\phi()$ corresponding to the linear kernel is $\\phi(x)→x$, the identity function, so we are using the input features as they are).\n",
        "We use a *polynomial kernel* with d=2, and we apply a gridsearch over the regularization parameter $C$ (other kernels are described in the [documentation](https://scikit-learn.org/stable/modules/generated/sklearn.svm.SVC.html))."
      ],
      "metadata": {
        "id": "yUSLKjBGhtae"
      }
    },
    {
      "cell_type": "code",
      "source": [
        "from sklearn.svm import SVC\n",
        "from sklearn.model_selection import GridSearchCV\n",
        "from sklearn.metrics import f1_score, accuracy_score\n",
        "\n",
        "\n",
        "svc_grid_params = {\n",
        "    'C': (0.1, 1., 10),\n",
        "}\n",
        "\n",
        "#define a new SVC (SVM for classification) with polynomial kernel (d=2, e=1) and fixed random state\n",
        "svc_clf = SVC(kernel = 'poly', degree=2, coef0=1, random_state=123)\n",
        "\n",
        "#define the gridsearch instance\n",
        "svc_v1 = GridSearchCV(svc_clf, svc_grid_params, n_jobs= -1, cv = 5)\n",
        "\n",
        "#fit over the training + validation\n",
        "svc_v1.fit(X_train_val, y_train_val)\n",
        "\n",
        "#see the grid-search validation performance\n",
        "svc_v1.best_score_"
      ],
      "metadata": {
        "colab": {
          "base_uri": "https://localhost:8080/"
        },
        "id": "8E5ldPmriJpc",
        "outputId": "5b8618d9-e2bc-4c03-8e34-ab86f3ca1203"
      },
      "execution_count": null,
      "outputs": [
        {
          "output_type": "execute_result",
          "data": {
            "text/plain": [
              "0.968696767324816"
            ]
          },
          "metadata": {},
          "execution_count": 66
        }
      ]
    },
    {
      "cell_type": "markdown",
      "source": [
        "Models' performance can be evaluated in many ways. So far, we evaluate a model based on its capabilities at classifing some datapoints (e.g., accuracy score, F1-score). Another option is models' training time. In other words, in future, you might choose models you know perform well as accuracy, but also fast at training or prediction time.\n",
        "\n",
        "We now want to show you how to calculate the training time performance."
      ],
      "metadata": {
        "id": "JsQG1Acykawx"
      }
    },
    {
      "cell_type": "code",
      "source": [
        "import time\n",
        "import numpy as np\n",
        "\n",
        "#define the number of repetitions\n",
        "repetitions = 5\n",
        "\n",
        "#empty list saving the time\n",
        "t = []\n",
        "\n",
        "for _ in range(repetitions): #iterate over the repetitions\n",
        "    ## training block\n",
        "    svc_grid_params = {'C': (0.1, 1., 10)}\n",
        "    svc_clf = SVC(kernel = 'linear', random_state=123)\n",
        "    svc_v1 = GridSearchCV(svc_clf, svc_grid_params, n_jobs= -1, cv = 5)\n",
        "    start_time = time.time() # get the starting time\n",
        "    svc_v1.fit(X_train_val, y_train_val)\n",
        "    end_time = time.time() # get the ending time\n",
        "\n",
        "    delta = end_time - start_time\n",
        "    t.append(delta)\n",
        "\n",
        "np.mean(t)"
      ],
      "metadata": {
        "colab": {
          "base_uri": "https://localhost:8080/"
        },
        "id": "TnDXDSkxlCiD",
        "outputId": "9e75359b-c8ec-4130-dbe6-2fa92d555e9c"
      },
      "execution_count": null,
      "outputs": [
        {
          "output_type": "execute_result",
          "data": {
            "text/plain": [
              "0.32334375381469727"
            ]
          },
          "metadata": {},
          "execution_count": 67
        }
      ]
    },
    {
      "cell_type": "markdown",
      "source": [
        "On average, it took us between $0.40$ and $0.55$ seconds to train an SVC with linear kernel. Notice that we repeat the training five times and get the average of the execution times because the notebooks are run on a computer in which multiple programs are running simultaneously, therefore each execution could take  different timings (and you might get an average different than ours)."
      ],
      "metadata": {
        "id": "USMdUhRP4OoD"
      }
    },
    {
      "cell_type": "markdown",
      "source": [
        "# Exercises"
      ],
      "metadata": {
        "id": "C_0q-ERD4ZAx"
      }
    },
    {
      "cell_type": "markdown",
      "source": [
        "## Exercise 1: Error Analysis\n",
        "\n",
        "The role of a data scientist is not only to train models, but also to analyse their outcomes.\n",
        "\n",
        "The *error analysis* is an example of such analyses, and something you should always do after training your models.\n",
        "With this analysis, your aim is to answer the following question: \"Why is my model mispredicting some samples?\"\n",
        "\n",
        "For example, sometimes the errors are legitimate. We are going to see an example now."
      ],
      "metadata": {
        "id": "WBzW5-Ob4a9k"
      }
    },
    {
      "cell_type": "markdown",
      "source": [
        "### Exercise 1.1\n",
        "\n",
        "Using the dataset adopted during the theoretical part of the lab, select the best hyperparameters for an SVC using the following values:\n",
        "\n",
        "    - kernel = 'rbf'\n",
        "    - random_state = 123\n",
        "    - C = [0.1, 1, 10]\n",
        "\n",
        "Use the data splits done in the previous part as well (apply cross validation on train+val).\n",
        "For the task, use the GridSearchCV with standard parameters as we always did.\n",
        "\n",
        "Finally, compute the accuracy on the test set using the selected best model."
      ],
      "metadata": {
        "id": "p1-ZQZ4V4l-u"
      }
    },
    {
      "cell_type": "code",
      "source": [
        "## Ex 1.1 here"
      ],
      "metadata": {
        "id": "1ntV5Q-v5DyD"
      },
      "execution_count": null,
      "outputs": []
    },
    {
      "cell_type": "markdown",
      "source": [
        "Look at the <a href=\"https://scikit-learn.org/stable/modules/generated/sklearn.metrics.ConfusionMatrixDisplay.html\"> [link] </a>.\n",
        "Use the functions described there (specifically in the first example) to create a ConfusionMatrix using the best model you found.\n",
        "\n",
        "Do you see any interesting pattern?\n"
      ],
      "metadata": {
        "id": "QC1_3-n55PfZ"
      }
    },
    {
      "cell_type": "code",
      "source": [
        "## Ex 1.2 here\n"
      ],
      "metadata": {
        "id": "t8gf7oCz5cZJ"
      },
      "execution_count": null,
      "outputs": []
    },
    {
      "cell_type": "markdown",
      "source": [
        "If everything is correct, you should notice that the diagonals contains high values: this is expected, as it means that most of the predictions are correct.\n",
        "Another interesting patterns can be found are the mispredictions. There are three examples of class 4 which are predicted as class 9. Let's see how they look like. Run the following code.\n"
      ],
      "metadata": {
        "id": "JIpuhn6Z5ur_"
      }
    },
    {
      "cell_type": "code",
      "source": [
        "indices = np.all([ (y_test==4), (y_test_pred==9) ], axis=0) # find the index of the examples of class 4 predicted as class 9\n",
        "                                                            # np.all returns the elements of the input vector that satisfy all conditions\n",
        "_, axes = plt.subplots(nrows=1, ncols=sum(indices==True), figsize=(10, 3))\n",
        "for ax, image, label, pred_label in zip(axes, X_test[indices], y_test[indices], y_test_pred[indices]):\n",
        "    ax.set_axis_off()\n",
        "    ax.imshow(image.reshape(8,8), cmap=plt.cm.gray_r, interpolation=\"nearest\")\n",
        "    ax.set_title(\"Test: %i\\nPred: %i\" % (label, pred_label))\n"
      ],
      "metadata": {
        "colab": {
          "base_uri": "https://localhost:8080/",
          "height": 225
        },
        "id": "IKCPBZ-o6FKv",
        "outputId": "2899f147-2cc5-4d83-baf9-2fd94b4f9ad4"
      },
      "execution_count": null,
      "outputs": [
        {
          "output_type": "display_data",
          "data": {
            "text/plain": [
              "<Figure size 720x216 with 3 Axes>"
            ],
            "image/png": "[encoded data removed]"
          },
          "metadata": {
            "needs_background": "light"
          }
        }
      ]
    },
    {
      "cell_type": "markdown",
      "source": [
        "We could argue that those seem more like 9s instead of 4s, in other words the labels are a bit noisy. As a result, we might decide not to spend time improving the performance of the algorithm, as they are not obvious errors.\n",
        "\n",
        "These examples could be used when discussing the performance of our learning system with the clients, to show that those are mistakes that even some humans would do (of course before we need to check that the same happens for the other mistakes).\n",
        "\n",
        "In summary, sometimes it is ok to have classifiers that do mistakes if these mistakes \"make sense\" somehow.\n"
      ],
      "metadata": {
        "id": "Q6h5NtRh6Jbh"
      }
    },
    {
      "cell_type": "markdown",
      "source": [
        "## Exercise 2: Visualising the Use of Different kernels"
      ],
      "metadata": {
        "id": "fusrdBKnLuqC"
      }
    },
    {
      "cell_type": "markdown",
      "source": [
        "Recall that the SVM corresponds to a linear discriminant function in the feature space $\\phi$. But how does the discriminat function look back in the input space? In this exercise, we will see how its change for different kernels and parameters. We start by creating a dataset, as usual."
      ],
      "metadata": {
        "id": "1SlTdXOGY9W-"
      }
    },
    {
      "cell_type": "code",
      "source": [
        "#import the data\n",
        "from sklearn import datasets\n",
        "from sklearn.preprocessing import StandardScaler\n",
        "from sklearn.model_selection import train_test_split\n",
        "import matplotlib.pyplot as plt\n",
        "\n",
        "X, y = datasets.make_classification(n_samples=700, n_features=2, random_state=124, n_redundant= 0, n_informative=2, scale=10, shift=10)\n",
        "X[:, 0] = X[:, 0]*0.1\n",
        "\n",
        "# split the data into training, and testing set.\n",
        "# note: for this exercise we avoid the validation set since\n",
        "# we only aim to understand how different models perform.\n",
        "# we do not adopt any validation process\n",
        "X_train, X_test, y_train, y_test = train_test_split(X,y,train_size=0.8, shuffle=False)\n",
        "\n",
        "# scale\n",
        "scl = StandardScaler()\n",
        "scl.fit(X_train)\n",
        "X_train = scl.transform(X_train)\n",
        "X_test = scl.transform(X_test)\n",
        "\n",
        "\n",
        "# visualize the data\n",
        "fig = plt.figure(figsize=(10,8))\n",
        "plt.plot(X_train[:, 0][y_train == 0], X_train[:, 1][y_train == 0], 'r^')\n",
        "plt.plot(X_train[:, 0][y_train == 1], X_train[:, 1][y_train == 1], 'bs')\n",
        "plt.xlabel(\"X1\")\n",
        "plt.ylabel(\"X2\")\n",
        "plt.title('Random Classification Data with 2 classes')\n"
      ],
      "metadata": {
        "colab": {
          "base_uri": "https://localhost:8080/",
          "height": 641
        },
        "id": "xMOfCpE2-64Q",
        "outputId": "019b0a16-53e3-4823-b0ad-1f15ccb52c22"
      },
      "execution_count": null,
      "outputs": [
        {
          "output_type": "execute_result",
          "data": {
            "text/plain": [
              "Text(0.5, 1.0, 'Random Classification Data with 2 classes')"
            ]
          },
          "metadata": {},
          "execution_count": 1
        },
        {
          "output_type": "display_data",
          "data": {
            "text/plain": [
              "<Figure size 1000x800 with 1 Axes>"
            ],
            "image/png": "[encoded data removed]"
          },
          "metadata": {}
        }
      ]
    },
    {
      "cell_type": "markdown",
      "source": [
        "We now create the function that, given a trained model, some data samples $X$, and the ground truth $y$, plots the model decision boundary."
      ],
      "metadata": {
        "id": "z-XG721nTAmz"
      }
    },
    {
      "cell_type": "code",
      "source": [
        "import numpy as np\n",
        "import matplotlib.pyplot as plt\n",
        "import pandas as pd\n",
        "from sklearn.svm import SVC\n",
        "from sklearn.metrics import accuracy_score\n",
        "\n",
        "\n",
        "def plot_discriminat_function(X,y, trained_model):\n",
        "    ## Plotting\n",
        "    x_min, x_max = X[:, 0].min() - 1, X[:, 0].max() + 1\n",
        "    y_min, y_max = X[:, 1].min() - 1, X[:, 1].max() + 1\n",
        "    # h = (x_max / x_min)/100\n",
        "    # xx, yy = np.meshgrid(np.arange(x_min, x_max, h), np.arange(y_min, y_max, h))\n",
        "    # X_plot = np.c_[xx.ravel(), yy.ravel()]\n",
        "    x_span = np.linspace(x_min, x_max, 100)\n",
        "    y_span = np.linspace(y_min, y_max, 100)\n",
        "    xx, yy = np.meshgrid(x_span, y_span)\n",
        "    X_plot = np.c_[xx.ravel(), yy.ravel()]\n",
        "\n",
        "    predicted = trained_model.predict(X_plot)\n",
        "    predicted = predicted.reshape(xx.shape)\n",
        "\n",
        "    plt.figure(figsize=(15, 5))\n",
        "    plt.subplot(121)\n",
        "    plt.contourf(xx, yy, predicted, alpha=0.5)\n",
        "    plt.set_cmap(\"gist_rainbow\")\n",
        "    # plt.scatter(X[:, 0], X[:, 1], c=y, cmap=plt.cm.Set1)\n",
        "    plt.plot(X[:, 0][y == 0], X[:, 1][y == 0], 'r^')\n",
        "    plt.plot(X[:, 0][y == 1], X[:, 1][y == 1], 'bs')\n",
        "\n",
        "    plt.xlabel('X1')\n",
        "    plt.ylabel('X2')\n",
        "    plt.xlim(xx.min(), xx.max())\n",
        "    plt.title(trained_model)\n",
        "    plt.show()\n"
      ],
      "metadata": {
        "id": "I5oLY_XgS82W"
      },
      "execution_count": null,
      "outputs": []
    },
    {
      "cell_type": "markdown",
      "source": [
        "### Exercise 2.1\n",
        "\n",
        "Train an SVC with:\n",
        "\n",
        "\n",
        "*   kernel = 'poly'\n",
        "*   degree = 2\n",
        "*   coef0 = 1\n",
        "*   random_state = 123\n",
        "\n",
        "Feed the trained model into *plot_discriminat_function*, and visually analze the obtained decision boundary.\n",
        "\n"
      ],
      "metadata": {
        "id": "1A8lEDArLQaA"
      }
    },
    {
      "cell_type": "code",
      "source": [
        "# EX 2.1"
      ],
      "metadata": {
        "id": "POTDLuede8tA"
      },
      "execution_count": null,
      "outputs": []
    },
    {
      "cell_type": "markdown",
      "source": [
        "You should notice that the discriminant function is not a line in the input space."
      ],
      "metadata": {
        "id": "ViVjs4dlfh8d"
      }
    },
    {
      "cell_type": "markdown",
      "source": [
        "### Exercise 2.2\n",
        "\n",
        "Let's define now a function that, given a trained model, computes training and testing accuracy.\n",
        "\n",
        "Then, use this function over the model trained in Exercise 2.1 (previous step)."
      ],
      "metadata": {
        "id": "s9LfPR7ifvEu"
      }
    },
    {
      "cell_type": "code",
      "source": [
        "# EX 2.2\n",
        "# def compute_accuracy(trained_model, X_train, y_train, X_test, y_test):\n"
      ],
      "metadata": {
        "id": "UGOb1HQCgEzT"
      },
      "execution_count": null,
      "outputs": []
    },
    {
      "cell_type": "markdown",
      "source": [
        "### Exercise 2.3\n",
        "\n",
        "Repeat the experiment with an SVC with linear kernel and random_state=123. Compare it with the polynomial one in terms of both accuracy (training and testing time) and discriminant function (using the plotting function)."
      ],
      "metadata": {
        "id": "Tq4PNhS7g4Ef"
      }
    },
    {
      "cell_type": "code",
      "source": [
        "## EX 2.3"
      ],
      "metadata": {
        "id": "LRY59IBxhY3h"
      },
      "execution_count": null,
      "outputs": []
    },
    {
      "cell_type": "markdown",
      "source": [
        "### Exercise 2.4\n",
        "\n",
        "Repeat what done in Exercise 2.3.\n",
        "This time, use an RBF kernel at the varying of $\\sigma$ = [0.001, 0.1, 10, 100, 500], while keeping the random_state as 123."
      ],
      "metadata": {
        "id": "VlQvYrM_Ld07"
      }
    },
    {
      "cell_type": "code",
      "source": [
        "# EX 2.4 here"
      ],
      "metadata": {
        "id": "YqD5vPswP670"
      },
      "execution_count": null,
      "outputs": []
    },
    {
      "cell_type": "markdown",
      "source": [
        "You should notice that the higher $\\sigma$, the better the model over the training data.\n",
        "\n",
        "However, the accuracy on the test set does not show the same behaviour: it improves until $\\sigma=10$, and then it decreses. With high $\\sigma$ values we overfit our data, meaning that the decision function tends to coincide with the training examples of the blue class (basically it's memorizing them)."
      ],
      "metadata": {
        "id": "RO6JaUoyRGqw"
      }
    },
    {
      "cell_type": "markdown",
      "source": [
        "## Exercise 3: Comparing the Execution Times of Learning Algorithms\n",
        "\n",
        "In this exercise, we are going to experiment with the computational cost, i.e. training and prediction time, of different learning algorithms.\n",
        "\n",
        "The exercise is conducted over the *MNIST* dataset. Since we will not optimising the hyperparameters of the learning algorithms, but we will use the default values, we don't have to create the validation set.\n",
        "\n",
        "**ALERT: for this entire exercise, do not set any random_state**"
      ],
      "metadata": {
        "id": "PVAv4ILo0A2o"
      }
    },
    {
      "cell_type": "code",
      "source": [
        "from sklearn.preprocessing import StandardScaler\n",
        "# Split data into 80% train and 20% test subsets\n",
        "X_train, X_test, y_train, y_test = train_test_split(\n",
        "    digits.data, digits.target, test_size=0.2, shuffle=False\n",
        ")\n",
        "\n",
        "### scale the data\n",
        "scl = StandardScaler().fit(X_train)\n",
        "X_train_scl = scl.transform(X_train)\n",
        "X_test_scl = scl.transform(X_test)\n",
        "\n",
        "num_classes = len(set(y_train))\n",
        "num_features = X_train.shape[1]\n",
        "\n",
        "print(f\"train size={len(X_train_scl)}, test size={len(X_test_scl)}\")\n",
        "print(f\"number of features = {num_features}; number of classes = {num_classes}\")"
      ],
      "metadata": {
        "id": "uUOkdvei0A2x",
        "colab": {
          "base_uri": "https://localhost:8080/"
        },
        "outputId": "00b77201-3047-480d-a6b2-be718aaa3a57"
      },
      "execution_count": null,
      "outputs": [
        {
          "output_type": "stream",
          "name": "stdout",
          "text": [
            "train size=1437, test size=360\n",
            "number of features = 64; number of classes = 10\n"
          ]
        }
      ]
    },
    {
      "cell_type": "markdown",
      "source": [
        "### Exercise 3.1: Function for Collecting Stats on Execution Time and Accuracy\n",
        "\n",
        "Create a function that, given a learning algorithm implemented in Sklearn: 1) trains it on the training set; 2) computes the predictions over training and test sets.\n",
        "The function must keep track of the time needed to do training, that needed to make predictions and the accuracies on the training and test sets.\n",
        "\n",
        "Such values should be defined as the average over 5 executions.\n",
        "More precisely, the results should be added to the following lists:\n",
        "\n",
        "1.   tr_time_list = list containing the training time of a specific model.\n",
        "2.   te_time_list = list containing the testing time of a specific model; this execution time contains the prediction on both train and test splits.\n",
        "3.   tr_acc_list = list containing the training accuracy of a specific model.\n",
        "4.   te_acc_list = list containing the accuracy on the test set of a specific model.\n",
        "5.   model_name_list = list containing the model name.\n",
        "\n",
        "Complete the code below that implements the function described in this box."
      ],
      "metadata": {
        "id": "_biIUlTV0A2x"
      }
    },
    {
      "cell_type": "code",
      "source": [
        "## Ex 3.1\n",
        "from sklearn.linear_model import Perceptron\n",
        "\n",
        "def test_algorithm(learning_alg, X_train, y_train, X_test, y_test):\n",
        "\n",
        "  #empty list to keep track of the running times and accuracy values of each repetition\n",
        "  train_time, test_time, train_accuracy, test_accuracy = [], [], [], []\n",
        "\n",
        "  #\n",
        "  # ADD YOUR CODE HERE\n",
        "  #\n",
        "\n",
        "  #the function need to return all the stats computed. The following line of code does that\n",
        "  return np.mean(train_time), np.mean(test_time), np.mean(train_accuracy), np.mean(test_accuracy)\n",
        "\n",
        "# You can test your function by invoking it as follows\n",
        "clf = Perceptron()\n",
        "tr_time, te_time, tr_acc, te_acc = test_algorithm(clf, X_train_scl,y_train, X_test_scl, y_test)\n",
        "print(f\"Perceptron\\n   Training time: {tr_time}\\n   Prediction time: {te_time}\")\n",
        "print(f\"   Accuracy on train: {tr_acc}\\n   Accuracy on test {te_acc}\")"
      ],
      "metadata": {
        "id": "r9ERa9DL0A2y"
      },
      "execution_count": null,
      "outputs": []
    },
    {
      "cell_type": "markdown",
      "source": [
        "### Exercise 3.2\n",
        "\n",
        "Now use the function test_algorithm() implemented in the previous exercise to collect statistics for the following models:\n",
        "\n",
        "1. Perceptron\n",
        "2. Logistic Regression\n",
        "3. SVM with linear kernel\n",
        "4. SVM with polynomial kernel of degree 2\n",
        "5. SVM with polynomial kernel of degree 3\n",
        "6. Decision Tree using Entropy for splitting\n",
        "7. K-NN with K=3\n",
        "\n",
        "The final statistics must be collected in the following lists: tr_time_list, te_time_list, tr_acc_list, te_acc_list, model_name_list, which are defined in the previuos exercise.\n",
        "\n",
        "In order to reduce your waiting time, you might want to use more than one cell, even one per algorithm."
      ],
      "metadata": {
        "id": "LC77ALWr0A2y"
      }
    },
    {
      "cell_type": "code",
      "source": [
        "# EX 1.2\n",
        "from sklearn.linear_model import LogisticRegression\n",
        "from sklearn.svm import SVC\n",
        "from sklearn import tree\n",
        "\n",
        "#initialize the lists collecting the stats\n",
        "tr_time_list, te_time_list, tr_acc_list, te_acc_list, model_name_list = [], [], [], [], []\n",
        "\n",
        "## ADD YOUR CODE HERE THAT INVOKES test_algorithm() and collects the statistics in the lists above\n",
        "\n"
      ],
      "metadata": {
        "id": "EmchSJh9Ik72"
      },
      "execution_count": null,
      "outputs": []
    },
    {
      "cell_type": "markdown",
      "source": [
        "### Visualising the Results\n",
        "\n",
        "We can now visualise the results obtained. Remember that here, each of the five lists must contain 7 values. Double check it: if you have more, you might have re-executed a cell multiple times. If so, just re-execute the entire notebook."
      ],
      "metadata": {
        "id": "g8xY-UfS0A20"
      }
    },
    {
      "cell_type": "code",
      "source": [
        "#this cell checks if you have the right amount of info\n",
        "expected_list_length = 7\n",
        "assert len(tr_acc_list) == expected_list_length\n",
        "assert len(te_acc_list) == expected_list_length\n",
        "assert len(tr_time_list) == expected_list_length\n",
        "assert len(te_time_list) == expected_list_length\n",
        "assert len(model_name_list) == expected_list_length"
      ],
      "metadata": {
        "id": "SUiGOOID0A20"
      },
      "execution_count": null,
      "outputs": []
    },
    {
      "cell_type": "code",
      "source": [
        "import matplotlib.cm as cm\n",
        "colors = cm.rainbow(np.linspace(0, 1, len(model_name_list)))\n",
        "for x, y, c, m in zip(te_acc_list, tr_time_list, colors, model_name_list):\n",
        "    plt.scatter(x, y, color = c, label = m)\n",
        "plt.legend()\n",
        "plt.xlabel(\"Test Accuracy\")\n",
        "plt.ylabel(\"Training Time [s]\")\n"
      ],
      "metadata": {
        "id": "4lQf0yi-0A20",
        "colab": {
          "base_uri": "https://localhost:8080/",
          "height": 297
        },
        "outputId": "f4bfb8d2-8c1a-4d09-d68b-1954a2a03aa1"
      },
      "execution_count": null,
      "outputs": [
        {
          "output_type": "execute_result",
          "data": {
            "text/plain": [
              "Text(0, 0.5, 'Training Time [s]')"
            ]
          },
          "metadata": {},
          "execution_count": 89
        },
        {
          "output_type": "display_data",
          "data": {
            "text/plain": [
              "<Figure size 432x288 with 1 Axes>"
            ],
            "image/png": "[encoded data removed]"
          },
          "metadata": {
            "needs_background": "light"
          }
        }
      ]
    },
    {
      "cell_type": "code",
      "source": [
        "import matplotlib.cm as cm\n",
        "colors = cm.rainbow(np.linspace(0, 1, len(model_name_list)))\n",
        "for x, y, c, m in zip(te_acc_list, te_time_list, colors, model_name_list):\n",
        "    plt.scatter(x, y, color = c, label = m)\n",
        "plt.legend()\n",
        "plt.xlabel(\"Test Accuracy\")\n",
        "plt.ylabel(\"Prediction Time [s]\")\n"
      ],
      "metadata": {
        "id": "wepQtM1v0A20",
        "colab": {
          "base_uri": "https://localhost:8080/",
          "height": 299
        },
        "outputId": "fe1cc8e3-262a-4431-9083-7a9a41651cee"
      },
      "execution_count": null,
      "outputs": [
        {
          "output_type": "execute_result",
          "data": {
            "text/plain": [
              "Text(0, 0.5, 'Prediction Time [s]')"
            ]
          },
          "metadata": {},
          "execution_count": 90
        },
        {
          "output_type": "display_data",
          "data": {
            "text/plain": [
              "<Figure size 432x288 with 1 Axes>"
            ],
            "image/png": "[encoded data removed]"
          },
          "metadata": {
            "needs_background": "light"
          }
        }
      ]
    },
    {
      "cell_type": "markdown",
      "metadata": {
        "id": "egfEBWwVL97q"
      },
      "source": [
        "# Ex 3.3\n",
        "\n",
        "In this new exercise, it's time to be more independent from us. \\\n",
        "Try and get good performances on the *wine_dataset*.\n",
        "\n",
        "Remember: use the testing set only *at the end*, after you selected the best model.\n"
      ]
    },
    {
      "cell_type": "code",
      "execution_count": null,
      "metadata": {
        "id": "6nzTWpLGMUEP"
      },
      "outputs": [],
      "source": [
        "from sklearn.datasets import load_wine #load our target dataset\n",
        "\n",
        "#load the dataset\n",
        "dataset = load_wine()\n",
        "\n",
        "#extract X and y\n",
        "X = dataset.data\n",
        "y = dataset.target\n",
        "\n",
        "#split\n",
        "X_train_val, X_test, y_train_val, y_test = train_test_split(X, y, train_size = 0.8, random_state = 123)"
      ]
    }
  ]
}