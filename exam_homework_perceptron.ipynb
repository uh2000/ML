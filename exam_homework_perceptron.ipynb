{
  "nbformat": 4,
  "nbformat_minor": 0,
  "metadata": {
    "colab": {
      "provenance": [],
      "include_colab_link": true
    },
    "kernelspec": {
      "name": "python3",
      "display_name": "Python 3"
    },
    "language_info": {
      "name": "python"
    }
  },
  "cells": [
    {
      "cell_type": "markdown",
      "metadata": {
        "id": "view-in-github",
        "colab_type": "text"
      },
      "source": [
        "<a href=\"https://colab.research.google.com/github/uh2000/ML/blob/main/exam_homework_perceptron.ipynb\" target=\"_parent\"><img src=\"https://colab.research.google.com/assets/colab-badge.svg\" alt=\"Open In Colab\"/></a>"
      ]
    },
    {
      "cell_type": "markdown",
      "source": [
        "# Perceptron For Non Linearly-Separable Data\n",
        "\n",
        "In this assigment we derive and implement a version of the perceptron that does not assume the data is linearly separable.\n",
        "We will use gradient descent to search for the hypothesis that best fit the training data.\n",
        "The hypothesis space, prediction function and datasets are the same as the one we saw in class, what changes is the way we'll perform training.\n",
        "\n",
        "We represent the perceptron with a vector of parameters $\\theta$ (which is orthogonal to the hyperplane separating the two classes).  \n",
        "We represent a dataset of $m$ examples with $(X=\\{x^{(1)}, \\ldots, x^{(m)}\\},Y=\\{y^{(1)}, \\dots, y^{(m)}\\})$, where $x^{(i)}\\in R^{n}$ (the input is described by a vector of $n$ features), and $y^{(i)}=\\{-1,+1\\}$.\n",
        "The score of the perceptron on an example $x$ is\n",
        "$$s(x) = \\theta^Tx = \\sum_{j=1}^n \\theta_jx_j~~~~~~~~~~~~~~~~~~~~~~(1)$$\n",
        "As usual, the prediction is the sign of the score function $s()$.\n",
        "\n",
        "Since we plan to update the parameters of our model using the gradient, we first need to define a cost function. We are going to use:\n",
        "$$E(\\theta) = \\frac{1}{2}\\sum_{i=1}^m \\big(y^{(i)}-s(x^{(i)})\\big)^2~~~~~~~~~~(2)$$\n",
        "\n",
        "**Exercise 1.1** - Compute the gradient $\\nabla E(\\theta)$\n",
        "\n",
        "As for the linear and logistic regression, the update rule is computed via the gradient of the cost function with respect to each parameter $\\theta_j$:\n",
        "$$\\theta_j' = \\theta_j-\\eta\\nabla E(\\theta_j),~~~~~~~~~~~~~~~~~~~~~~~~~~~~(3)$$\n",
        "where $\\theta_j'$ is the j-th component of the gradient after the update, $\\theta_j$ is the j-th component before the update, $\\eta$ is the learning rate and $\\nabla E(\\theta_j)$ is the gradient of the cost function with respect to $\\theta_j$. Consequently,\n",
        "$$\n",
        "\\nabla E(\\theta)=\\left[\\begin{array}{c}\n",
        "\\dfrac{\\partial E}{\\partial \\theta_1}\\Big(\\frac{1}{2}\\sum_{i=1}^m \\big(y^{(i)}-s(x^{(i)})\\big)^2\\Big)\\\\\n",
        "\\dfrac{\\partial E}{\\partial \\theta_2}\\Big(\\frac{1}{2}\\sum_{i=1}^m \\big(y^{(i)}-s(x^{(i)})\\big)^2\\Big) \\\\\n",
        "\\vdots \\\\\n",
        "\\dfrac{\\partial E}{\\partial \\theta_n}\\Big(\\frac{1}{2}\\sum_{i=1}^m \\big(y^{(i)}-s(x^{(i)})\\big)^2\\Big)\n",
        "\\end{array}\\right], ~~~(4)\n",
        "$$\n",
        "i.e. the derivative of $E$ with respect to each variable $\\theta_j$.\n",
        "\n",
        "Let's start by **computing the gradient of $E$ with respect to a generic $\\theta_j$:**\n",
        " $$\\dfrac{\\partial E}{\\partial \\theta_j}\\Big(\\frac{1}{2}\\sum_{i=1}^m \\big(y^{(i)}-s(x^{(i)})\\big)^2\\Big)= ~? ~~~~~~~~~~~~~~~~~~~~~(5)$$\n",
        " Complete the formula (5) in the text box below. If you struggle with latex (the language used here for writing math formulas), you may skip this part and directly provide the implementation afterwards."
      ],
      "metadata": {
        "id": "BfyGsMOvMWMT"
      }
    },
    {
      "cell_type": "markdown",
      "source": [
        "**Exercise 1.1**\n",
        "\n",
        "The gradient of $E$ with respect to $\\theta_j$ is:\n",
        "$$\n",
        "  \\dfrac{\\partial E}{\\partial \\theta_j}\\Big(\\frac{1}{2}\\sum_{i=1}^m \\big(y^{(i)}-s(x^{(i)})\\big)^2\\Big) =\n",
        "$$"
      ],
      "metadata": {
        "id": "Dq4ImlSjUFYY"
      }
    },
    {
      "cell_type": "markdown",
      "source": [
        "Now let's implement the new version of the perceptron.\n",
        "Let' start by loading libraries and data."
      ],
      "metadata": {
        "id": "erDTcAhgU4-j"
      }
    },
    {
      "cell_type": "code",
      "source": [
        "# SETUP\n",
        "# install python at version 3.10\n",
        "!apt-get install python3.10\n",
        "\n",
        "# update symbolic links to the newly installed python version\n",
        "!ln -sf /usr/bin/python3.10 /usr/bin/python\n",
        "!ln -sf /usr/bin/python3.10 /usr/bin/python3\n",
        "\n",
        "# install scikit-learn 1.2.2\n",
        "%pip install scikit-learn==1.2.2"
      ],
      "metadata": {
        "colab": {
          "base_uri": "https://localhost:8080/"
        },
        "id": "a1bwdsusuxYX",
        "outputId": "e3d6cd7d-c601-4978-8b63-0fcd478ac9eb"
      },
      "execution_count": null,
      "outputs": [
        {
          "output_type": "stream",
          "name": "stdout",
          "text": [
            "Reading package lists... Done\n",
            "Building dependency tree... Done\n",
            "Reading state information... Done\n",
            "python3.10 is already the newest version (3.10.12-1~22.04.3).\n",
            "0 upgraded, 0 newly installed, 0 to remove and 23 not upgraded.\n",
            "Requirement already satisfied: scikit-learn==1.2.2 in /usr/local/lib/python3.10/dist-packages (1.2.2)\n",
            "Requirement already satisfied: numpy>=1.17.3 in /usr/local/lib/python3.10/dist-packages (from scikit-learn==1.2.2) (1.23.5)\n",
            "Requirement already satisfied: scipy>=1.3.2 in /usr/local/lib/python3.10/dist-packages (from scikit-learn==1.2.2) (1.11.4)\n",
            "Requirement already satisfied: joblib>=1.1.1 in /usr/local/lib/python3.10/dist-packages (from scikit-learn==1.2.2) (1.3.2)\n",
            "Requirement already satisfied: threadpoolctl>=2.0.0 in /usr/local/lib/python3.10/dist-packages (from scikit-learn==1.2.2) (3.2.0)\n"
          ]
        }
      ]
    },
    {
      "cell_type": "code",
      "source": [
        "#import the basic libraries and get the data\n",
        "import numpy as np\n",
        "import matplotlib.pyplot as plt\n",
        "from sklearn import datasets\n",
        "from sklearn.preprocessing import StandardScaler\n",
        "from sklearn.model_selection import train_test_split\n",
        "\n",
        "X_art, y_art = datasets.make_classification(n_samples=300, n_features=2, random_state=123, n_redundant= 0, n_informative=2, scale=10, shift=10, n_clusters_per_class=1, class_sep=0.675)\n",
        "y_art[y_art==0]=-1\n",
        "y_art = y_art.reshape(len(y_art),1)\n",
        "X_train, X_test, y_train, y_test = train_test_split(X_art, y_art, train_size=0.8, random_state=123)\n",
        "\n",
        "# scale\n",
        "scl = StandardScaler()\n",
        "scl.fit(X_train)\n",
        "X_train = scl.transform(X_train)\n",
        "X_test = scl.transform(X_test)\n",
        "\n",
        "X_train = np.hstack([np.ones((X_train.shape[0],1)), X_train]) # adding a constant feature to account for the bias term\n",
        "X_test = np.hstack([np.ones((X_test.shape[0],1)), X_test]) # adding a constant feature to account for the bias term\n",
        "\n",
        "# visualize the data\n",
        "fig = plt.figure(figsize=(10,8))\n",
        "plt.plot(X_train[:, 1][y_train[:,0] == -1], X_train[:, 2][y_train[:,0] == -1], 'r^')\n",
        "plt.plot(X_train[:, 1][y_train[:,0] == 1], X_train[:, 2][y_train[:,0] == 1], 'bs')\n",
        "plt.xlabel(\"$X_1$\")\n",
        "plt.ylabel(\"$X_2$\")\n",
        "plt.title('Random Data with 2 classes')\n"
      ],
      "metadata": {
        "id": "AwrVO5DjNmc6",
        "colab": {
          "base_uri": "https://localhost:8080/",
          "height": 706
        },
        "outputId": "5def44c9-e3b8-414f-de12-9556dc5c335d"
      },
      "execution_count": null,
      "outputs": [
        {
          "output_type": "execute_result",
          "data": {
            "text/plain": [
              "Text(0.5, 1.0, 'Random Data with 2 classes')"
            ]
          },
          "metadata": {},
          "execution_count": 2
        },
        {
          "output_type": "display_data",
          "data": {
            "text/plain": [
              "<Figure size 1000x800 with 1 Axes>"
            ],
            "image/png": "[encoded data removed]"
          },
          "metadata": {}
        }
      ]
    },
    {
      "cell_type": "markdown",
      "source": [
        "**Exercise 1.2**\n",
        "\n",
        "Check the code in the previous box and answer the following question\n",
        "\n",
        "1. what does the code in line 19 do? \"*X_train = np.hstack...*\"\n",
        "2. is the data plotted linearly separable?"
      ],
      "metadata": {
        "id": "FUg0hh8yEd6D"
      }
    },
    {
      "cell_type": "markdown",
      "source": [
        "Write your answers to **Exercise 1.2 in this box**\n",
        "\n"
      ],
      "metadata": {
        "id": "9meYQwMoGDdE"
      }
    },
    {
      "cell_type": "markdown",
      "source": [
        "Let's now implement a function Perceptron( $X$, $Y$, $\\epsilon$, $\\theta$ )  with 5 parameters.\n",
        "\n",
        "The parameters are\n",
        "\n",
        "*   X: the training data\n",
        "*   Y: the labels of the training data\n",
        "*   $\\epsilon$: the algorithm stops as soon as the updates are smaller than this value\n",
        "*   $\\theta$: the initial value of the parameters of the model\n",
        "*   $\\eta$: the learning rate\n",
        "\n",
        "The content of the function Perceptron() is the following:\n",
        "\n",
        "-------\n",
        "$\\theta' = \\theta -\\eta\\nabla E(\\theta)$\n",
        "\n",
        "while $|E(\\theta')-E(\\theta)| > \\epsilon$\n",
        "\n",
        "  $\\hspace{1cm}\\theta$ = $\\theta'$\n",
        "\n",
        "  $\\hspace{1cm}\\theta'$ = $\\theta-\\eta\\nabla E(\\theta)$\n",
        "\n",
        "return $\\theta'$\n",
        "\n",
        "------\n",
        "\n",
        "As we have seen for the linear regression, the vector $\\theta$ gets updated until the stopping criterion is met. In our case such criterion relates to the change in the error: $|E(\\theta')-E(\\theta)| > \\epsilon$, where $|x|$ is the absolute value of x (in our case the difference in the cost function before and after an update). Notice that the error is computed over all the training data, so the algorithm generally cycles multiple times over the training data.\n",
        "\n",
        "**Exercise 1.3 Implement the following functions in the box below (according to the description in the same box)**\n",
        "* **def s(X, theta)**\n",
        "* **def cost_function_value(scores, Y)**\n",
        "* **def update(X, Y, theta, eta)**\n",
        "\n",
        "Then exec the box with the function my_perceptron() below."
      ],
      "metadata": {
        "id": "tB8spgPq5zak"
      }
    },
    {
      "cell_type": "code",
      "source": [
        "def s(X, theta):\n",
        "  # compute the score of a perceptron with parameters theta on X, i.e. equation (1) above for all x in X\n",
        "  # returns a vectors of dimension m, i.e. equation (1) computed over all examples X\n",
        "  pass\n",
        "\n",
        "def cost_function_value(scores, Y):\n",
        "  # compute equation (2), where 'scores' are the values of equation (1) over X and Y the gold labels of examples X\n",
        "  pass\n",
        "\n",
        "def update(X, Y, theta, eta):\n",
        "  # compute the update for the perceptron, i.e. equation (3)\n",
        "  # returns the updated vector theta'\n",
        "  pass\n"
      ],
      "metadata": {
        "id": "pWGRX7rzrVCM"
      },
      "execution_count": null,
      "outputs": []
    },
    {
      "cell_type": "code",
      "source": [
        "def my_perceptron(X, Y, epsilon, theta, eta):\n",
        "\n",
        "  error_values = [] # we keep record of all the cost function values for all iterations of the algorithm\n",
        "  theta_prime = theta\n",
        "\n",
        "  error_values.append(cost_function_value(s(X, theta), Y))\n",
        "  theta_prime = update(X,Y, theta, eta)\n",
        "  error_values.append(cost_function_value(s(X, theta_prime), Y))\n",
        "\n",
        "  while abs(error_values[-1]-error_values[-2])>epsilon:\n",
        "    theta_prime = update(X,Y, theta_prime, eta)\n",
        "    error_values.append(cost_function_value(s(X, theta_prime), Y))\n",
        "  return theta_prime, error_values\n",
        "\n",
        "\n",
        "theta = np.ones((X_train.shape[1],1))*0.1\n",
        "theta[0] = 0.2\n",
        "\n",
        "theta_prime, error_values = my_perceptron(X_train, y_train, 0.0001, theta, 0.0001)\n",
        "\n",
        "fig = plt.figure(figsize=(6,4))\n",
        "plt.plot(error_values)\n",
        "plt.xlabel(\"# iteration\")\n",
        "plt.ylabel(\"Cost function\")\n",
        "plt.title('Random Data with 2 classes')\n",
        "\n",
        "print(\"iterations: \" + str(len(error_values))+ \"\\nfinal cost function value: \" + str(error_values[-1]))"
      ],
      "metadata": {
        "colab": {
          "base_uri": "https://localhost:8080/",
          "height": 304
        },
        "id": "hw1pelWa_Dk8",
        "outputId": "287a09d7-937a-4a7e-969a-20fe2d73e49e"
      },
      "execution_count": 31,
      "outputs": [
        {
          "output_type": "error",
          "ename": "KeyboardInterrupt",
          "evalue": "ignored",
          "traceback": [
            "\u001b[0;31m---------------------------------------------------------------------------\u001b[0m",
            "\u001b[0;31mKeyboardInterrupt\u001b[0m                         Traceback (most recent call last)",
            "\u001b[0;32m<ipython-input-31-b2d9dabff253>\u001b[0m in \u001b[0;36m<cell line: 19>\u001b[0;34m()\u001b[0m\n\u001b[1;32m     17\u001b[0m \u001b[0mtheta\u001b[0m\u001b[0;34m[\u001b[0m\u001b[0;36m0\u001b[0m\u001b[0;34m]\u001b[0m \u001b[0;34m=\u001b[0m \u001b[0;36m0.2\u001b[0m\u001b[0;34m\u001b[0m\u001b[0;34m\u001b[0m\u001b[0m\n\u001b[1;32m     18\u001b[0m \u001b[0;34m\u001b[0m\u001b[0m\n\u001b[0;32m---> 19\u001b[0;31m \u001b[0mtheta_prime\u001b[0m\u001b[0;34m,\u001b[0m \u001b[0merror_values\u001b[0m \u001b[0;34m=\u001b[0m \u001b[0mmy_perceptron\u001b[0m\u001b[0;34m(\u001b[0m\u001b[0mX_train\u001b[0m\u001b[0;34m,\u001b[0m \u001b[0my_train\u001b[0m\u001b[0;34m,\u001b[0m \u001b[0;36m0.01\u001b[0m\u001b[0;34m,\u001b[0m \u001b[0mtheta\u001b[0m\u001b[0;34m,\u001b[0m \u001b[0;36m0.0001\u001b[0m\u001b[0;34m)\u001b[0m\u001b[0;34m\u001b[0m\u001b[0;34m\u001b[0m\u001b[0m\n\u001b[0m\u001b[1;32m     20\u001b[0m \u001b[0;34m\u001b[0m\u001b[0m\n\u001b[1;32m     21\u001b[0m \u001b[0mfig\u001b[0m \u001b[0;34m=\u001b[0m \u001b[0mplt\u001b[0m\u001b[0;34m.\u001b[0m\u001b[0mfigure\u001b[0m\u001b[0;34m(\u001b[0m\u001b[0mfigsize\u001b[0m\u001b[0;34m=\u001b[0m\u001b[0;34m(\u001b[0m\u001b[0;36m6\u001b[0m\u001b[0;34m,\u001b[0m\u001b[0;36m4\u001b[0m\u001b[0;34m)\u001b[0m\u001b[0;34m)\u001b[0m\u001b[0;34m\u001b[0m\u001b[0;34m\u001b[0m\u001b[0m\n",
            "\u001b[0;32m<ipython-input-31-b2d9dabff253>\u001b[0m in \u001b[0;36mmy_perceptron\u001b[0;34m(X, Y, epsilon, theta, eta)\u001b[0m\n\u001b[1;32m     10\u001b[0m   \u001b[0;32mwhile\u001b[0m \u001b[0mabs\u001b[0m\u001b[0;34m(\u001b[0m\u001b[0merror_values\u001b[0m\u001b[0;34m[\u001b[0m\u001b[0;34m-\u001b[0m\u001b[0;36m1\u001b[0m\u001b[0;34m]\u001b[0m\u001b[0;34m-\u001b[0m\u001b[0merror_values\u001b[0m\u001b[0;34m[\u001b[0m\u001b[0;34m-\u001b[0m\u001b[0;36m2\u001b[0m\u001b[0;34m]\u001b[0m\u001b[0;34m)\u001b[0m\u001b[0;34m>\u001b[0m\u001b[0mepsilon\u001b[0m\u001b[0;34m:\u001b[0m\u001b[0;34m\u001b[0m\u001b[0;34m\u001b[0m\u001b[0m\n\u001b[1;32m     11\u001b[0m     \u001b[0mtheta_prime\u001b[0m \u001b[0;34m=\u001b[0m \u001b[0mupdate\u001b[0m\u001b[0;34m(\u001b[0m\u001b[0mX\u001b[0m\u001b[0;34m,\u001b[0m\u001b[0mY\u001b[0m\u001b[0;34m,\u001b[0m \u001b[0mtheta_prime\u001b[0m\u001b[0;34m,\u001b[0m \u001b[0meta\u001b[0m\u001b[0;34m)\u001b[0m\u001b[0;34m\u001b[0m\u001b[0;34m\u001b[0m\u001b[0m\n\u001b[0;32m---> 12\u001b[0;31m     \u001b[0merror_values\u001b[0m\u001b[0;34m.\u001b[0m\u001b[0mappend\u001b[0m\u001b[0;34m(\u001b[0m\u001b[0mcost_function_value\u001b[0m\u001b[0;34m(\u001b[0m\u001b[0ms\u001b[0m\u001b[0;34m(\u001b[0m\u001b[0mX\u001b[0m\u001b[0;34m,\u001b[0m \u001b[0mtheta_prime\u001b[0m\u001b[0;34m)\u001b[0m\u001b[0;34m,\u001b[0m \u001b[0mY\u001b[0m\u001b[0;34m)\u001b[0m\u001b[0;34m)\u001b[0m\u001b[0;34m\u001b[0m\u001b[0;34m\u001b[0m\u001b[0m\n\u001b[0m\u001b[1;32m     13\u001b[0m   \u001b[0;32mreturn\u001b[0m \u001b[0mtheta_prime\u001b[0m\u001b[0;34m,\u001b[0m \u001b[0merror_values\u001b[0m\u001b[0;34m\u001b[0m\u001b[0;34m\u001b[0m\u001b[0m\n\u001b[1;32m     14\u001b[0m \u001b[0;34m\u001b[0m\u001b[0m\n",
            "\u001b[0;32m<ipython-input-29-d9f31542d0bc>\u001b[0m in \u001b[0;36mcost_function_value\u001b[0;34m(scores, Y)\u001b[0m\n\u001b[1;32m      7\u001b[0m \u001b[0;32mdef\u001b[0m \u001b[0mcost_function_value\u001b[0m\u001b[0;34m(\u001b[0m\u001b[0mscores\u001b[0m\u001b[0;34m,\u001b[0m \u001b[0mY\u001b[0m\u001b[0;34m)\u001b[0m\u001b[0;34m:\u001b[0m\u001b[0;34m\u001b[0m\u001b[0;34m\u001b[0m\u001b[0m\n\u001b[1;32m      8\u001b[0m   \u001b[0;31m# compute equation (2), where 'scores' are the values of equation (1) over X and Y the gold labels of examples X\u001b[0m\u001b[0;34m\u001b[0m\u001b[0;34m\u001b[0m\u001b[0m\n\u001b[0;32m----> 9\u001b[0;31m   \u001b[0mloss\u001b[0m \u001b[0;34m=\u001b[0m \u001b[0mnp\u001b[0m\u001b[0;34m.\u001b[0m\u001b[0msum\u001b[0m\u001b[0;34m(\u001b[0m\u001b[0;34m(\u001b[0m\u001b[0mY\u001b[0m \u001b[0;34m-\u001b[0m \u001b[0mscores\u001b[0m\u001b[0;34m)\u001b[0m\u001b[0;34m**\u001b[0m\u001b[0;36m2\u001b[0m\u001b[0;34m)\u001b[0m \u001b[0;34m*\u001b[0m \u001b[0;36m0.5\u001b[0m\u001b[0;34m\u001b[0m\u001b[0;34m\u001b[0m\u001b[0m\n\u001b[0m\u001b[1;32m     10\u001b[0m   \u001b[0;32mreturn\u001b[0m \u001b[0mloss\u001b[0m\u001b[0;34m\u001b[0m\u001b[0;34m\u001b[0m\u001b[0m\n\u001b[1;32m     11\u001b[0m \u001b[0;34m\u001b[0m\u001b[0m\n",
            "\u001b[0;32m/usr/local/lib/python3.10/dist-packages/numpy/core/overrides.py\u001b[0m in \u001b[0;36msum\u001b[0;34m(*args, **kwargs)\u001b[0m\n",
            "\u001b[0;31mKeyboardInterrupt\u001b[0m: "
          ]
        }
      ]
    },
    {
      "cell_type": "code",
      "source": [
        "# let's plot the perceptron (lightgray the first iteration, green the latest)\n",
        "\n",
        "fig = plt.figure(figsize=(10,8))\n",
        "plt.plot(X_train[:, 1][y_train[:,0] == -1], X_train[:, 2][y_train[:,0] == -1], 'r^')\n",
        "plt.plot(X_train[:, 1][y_train[:,0] == 1], X_train[:, 2][y_train[:,0] == 1], 'bs')\n",
        "Xvalues = np.linspace(-3.1, 3.1, 20)\n",
        "plt.plot(Xvalues, -theta[1]/theta[2]*Xvalues-theta[0]/theta[2], 'lightgray', label='first iter.')\n",
        "plt.plot(Xvalues, -theta_prime[1]/theta_prime[2]*Xvalues-theta_prime[0]/theta_prime[2], 'g', label='last iter.')\n",
        "plt.xlabel(\"$X_1$\")\n",
        "plt.ylabel(\"$X_2$\")\n",
        "plt.legend()\n",
        "plt.title('Perceptron on Data with 2 classes')\n"
      ],
      "metadata": {
        "id": "AUgoGt21fUGO"
      },
      "execution_count": null,
      "outputs": []
    },
    {
      "cell_type": "markdown",
      "source": [
        "**Exercise 1.4**\n",
        "\n",
        "Compute the accuracy on the perceptron just implemented on the test set"
      ],
      "metadata": {
        "id": "hIRjAEVEK9yv"
      }
    },
    {
      "cell_type": "code",
      "source": [
        "from sklearn.metrics import accuracy_score\n"
      ],
      "metadata": {
        "id": "kM4dRLTWRXo8"
      },
      "execution_count": null,
      "outputs": []
    }
  ]
}