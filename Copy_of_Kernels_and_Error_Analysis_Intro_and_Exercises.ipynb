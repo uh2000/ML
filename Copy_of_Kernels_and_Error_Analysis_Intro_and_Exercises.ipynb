{
  "nbformat": 4,
  "nbformat_minor": 0,
  "metadata": {
    "colab": {
      "provenance": [],
      "include_colab_link": true
    },
    "kernelspec": {
      "name": "python3",
      "display_name": "Python 3"
    },
    "language_info": {
      "name": "python"
    }
  },
  "cells": [
    {
      "cell_type": "markdown",
      "metadata": {
        "id": "view-in-github",
        "colab_type": "text"
      },
      "source": [
        "<a href=\"https://colab.research.google.com/github/uh2000/ML/blob/main/Copy_of_Kernels_and_Error_Analysis_Intro_and_Exercises.ipynb\" target=\"_parent\"><img src=\"https://colab.research.google.com/assets/colab-badge.svg\" alt=\"Open In Colab\"/></a>"
      ]
    },
    {
      "cell_type": "markdown",
      "source": [
        "# Theory\n",
        "\n",
        "So far we worked with tabular data. Today we try something different, i.e.,  *image classification*. As a task, we aim to predict *digits* provided by the *MNIST* dataset, a popular dataset used in Machine Learning to test new algorithms.\n",
        "\n",
        "We will now import it and see how such digits look like (after having loaded all relevant libraries)."
      ],
      "metadata": {
        "id": "rmyGEY8HbAPf"
      }
    },
    {
      "cell_type": "code",
      "source": [
        "# SETUP\n",
        "# install python 3.10\n",
        "!apt-get install python3.10\n",
        "\n",
        "# update symbolic links to the newly installed python version\n",
        "!ln -sf /usr/bin/python3.10 /usr/bin/python\n",
        "!ln -sf /usr/bin/python3.10 /usr/bin/python3\n",
        "\n",
        "# install numpy 1.23.5\n",
        "%pip install numpy==1.23.5\n",
        "# install scikit-learn 1.2.2\n",
        "%pip install scikit-learn==1.2.2\n",
        "# install keras 2.13.1\n",
        "%pip install keras==2.13.1\n",
        "# install tensorflow 2.13.0\n",
        "%pip install tensorflow==2.13.0"
      ],
      "metadata": {
        "id": "smZTnmiDEn85",
        "colab": {
          "base_uri": "https://localhost:8080/"
        },
        "outputId": "8a44d84d-cf70-4201-a864-4ac7e7a4b205"
      },
      "execution_count": 1,
      "outputs": [
        {
          "output_type": "stream",
          "name": "stdout",
          "text": [
            "Reading package lists... Done\n",
            "Building dependency tree... Done\n",
            "Reading state information... Done\n",
            "python3.10 is already the newest version (3.10.12-1~22.04.3).\n",
            "0 upgraded, 0 newly installed, 0 to remove and 15 not upgraded.\n",
            "Requirement already satisfied: numpy==1.23.5 in /usr/local/lib/python3.10/dist-packages (1.23.5)\n",
            "Requirement already satisfied: scikit-learn==1.2.2 in /usr/local/lib/python3.10/dist-packages (1.2.2)\n",
            "Requirement already satisfied: numpy>=1.17.3 in /usr/local/lib/python3.10/dist-packages (from scikit-learn==1.2.2) (1.23.5)\n",
            "Requirement already satisfied: scipy>=1.3.2 in /usr/local/lib/python3.10/dist-packages (from scikit-learn==1.2.2) (1.11.4)\n",
            "Requirement already satisfied: joblib>=1.1.1 in /usr/local/lib/python3.10/dist-packages (from scikit-learn==1.2.2) (1.3.2)\n",
            "Requirement already satisfied: threadpoolctl>=2.0.0 in /usr/local/lib/python3.10/dist-packages (from scikit-learn==1.2.2) (3.2.0)\n",
            "Collecting keras==2.13.1\n",
            "  Downloading keras-2.13.1-py3-none-any.whl (1.7 MB)\n",
            "\u001b[2K     \u001b[90m━━━━━━━━━━━━━━━━━━━━━━━━━━━━━━━━━━━━━━━━\u001b[0m \u001b[32m1.7/1.7 MB\u001b[0m \u001b[31m15.7 MB/s\u001b[0m eta \u001b[36m0:00:00\u001b[0m\n",
            "\u001b[?25hInstalling collected packages: keras\n",
            "  Attempting uninstall: keras\n",
            "    Found existing installation: keras 2.14.0\n",
            "    Uninstalling keras-2.14.0:\n",
            "      Successfully uninstalled keras-2.14.0\n",
            "\u001b[31mERROR: pip's dependency resolver does not currently take into account all the packages that are installed. This behaviour is the source of the following dependency conflicts.\n",
            "tensorflow 2.14.0 requires keras<2.15,>=2.14.0, but you have keras 2.13.1 which is incompatible.\u001b[0m\u001b[31m\n",
            "\u001b[0mSuccessfully installed keras-2.13.1\n",
            "Collecting tensorflow==2.13.0\n",
            "  Downloading tensorflow-2.13.0-cp310-cp310-manylinux_2_17_x86_64.manylinux2014_x86_64.whl (524.1 MB)\n",
            "\u001b[2K     \u001b[90m━━━━━━━━━━━━━━━━━━━━━━━━━━━━━━━━━━━━━━━━\u001b[0m \u001b[32m524.1/524.1 MB\u001b[0m \u001b[31m1.2 MB/s\u001b[0m eta \u001b[36m0:00:00\u001b[0m\n",
            "\u001b[?25hRequirement already satisfied: absl-py>=1.0.0 in /usr/local/lib/python3.10/dist-packages (from tensorflow==2.13.0) (1.4.0)\n",
            "Requirement already satisfied: astunparse>=1.6.0 in /usr/local/lib/python3.10/dist-packages (from tensorflow==2.13.0) (1.6.3)\n",
            "Requirement already satisfied: flatbuffers>=23.1.21 in /usr/local/lib/python3.10/dist-packages (from tensorflow==2.13.0) (23.5.26)\n",
            "Collecting gast<=0.4.0,>=0.2.1 (from tensorflow==2.13.0)\n",
            "  Downloading gast-0.4.0-py3-none-any.whl (9.8 kB)\n",
            "Requirement already satisfied: google-pasta>=0.1.1 in /usr/local/lib/python3.10/dist-packages (from tensorflow==2.13.0) (0.2.0)\n",
            "Requirement already satisfied: grpcio<2.0,>=1.24.3 in /usr/local/lib/python3.10/dist-packages (from tensorflow==2.13.0) (1.59.3)\n",
            "Requirement already satisfied: h5py>=2.9.0 in /usr/local/lib/python3.10/dist-packages (from tensorflow==2.13.0) (3.9.0)\n",
            "Requirement already satisfied: keras<2.14,>=2.13.1 in /usr/local/lib/python3.10/dist-packages (from tensorflow==2.13.0) (2.13.1)\n",
            "Requirement already satisfied: libclang>=13.0.0 in /usr/local/lib/python3.10/dist-packages (from tensorflow==2.13.0) (16.0.6)\n",
            "Requirement already satisfied: numpy<=1.24.3,>=1.22 in /usr/local/lib/python3.10/dist-packages (from tensorflow==2.13.0) (1.23.5)\n",
            "Requirement already satisfied: opt-einsum>=2.3.2 in /usr/local/lib/python3.10/dist-packages (from tensorflow==2.13.0) (3.3.0)\n",
            "Requirement already satisfied: packaging in /usr/local/lib/python3.10/dist-packages (from tensorflow==2.13.0) (23.2)\n",
            "Requirement already satisfied: protobuf!=4.21.0,!=4.21.1,!=4.21.2,!=4.21.3,!=4.21.4,!=4.21.5,<5.0.0dev,>=3.20.3 in /usr/local/lib/python3.10/dist-packages (from tensorflow==2.13.0) (3.20.3)\n",
            "Requirement already satisfied: setuptools in /usr/local/lib/python3.10/dist-packages (from tensorflow==2.13.0) (67.7.2)\n",
            "Requirement already satisfied: six>=1.12.0 in /usr/local/lib/python3.10/dist-packages (from tensorflow==2.13.0) (1.16.0)\n",
            "Collecting tensorboard<2.14,>=2.13 (from tensorflow==2.13.0)\n",
            "  Downloading tensorboard-2.13.0-py3-none-any.whl (5.6 MB)\n",
            "\u001b[2K     \u001b[90m━━━━━━━━━━━━━━━━━━━━━━━━━━━━━━━━━━━━━━━━\u001b[0m \u001b[32m5.6/5.6 MB\u001b[0m \u001b[31m84.6 MB/s\u001b[0m eta \u001b[36m0:00:00\u001b[0m\n",
            "\u001b[?25hCollecting tensorflow-estimator<2.14,>=2.13.0 (from tensorflow==2.13.0)\n",
            "  Downloading tensorflow_estimator-2.13.0-py2.py3-none-any.whl (440 kB)\n",
            "\u001b[2K     \u001b[90m━━━━━━━━━━━━━━━━━━━━━━━━━━━━━━━━━━━━━━━━\u001b[0m \u001b[32m440.8/440.8 kB\u001b[0m \u001b[31m45.1 MB/s\u001b[0m eta \u001b[36m0:00:00\u001b[0m\n",
            "\u001b[?25hRequirement already satisfied: termcolor>=1.1.0 in /usr/local/lib/python3.10/dist-packages (from tensorflow==2.13.0) (2.3.0)\n",
            "Requirement already satisfied: typing-extensions<4.6.0,>=3.6.6 in /usr/local/lib/python3.10/dist-packages (from tensorflow==2.13.0) (4.5.0)\n",
            "Requirement already satisfied: wrapt>=1.11.0 in /usr/local/lib/python3.10/dist-packages (from tensorflow==2.13.0) (1.14.1)\n",
            "Requirement already satisfied: tensorflow-io-gcs-filesystem>=0.23.1 in /usr/local/lib/python3.10/dist-packages (from tensorflow==2.13.0) (0.34.0)\n",
            "Requirement already satisfied: wheel<1.0,>=0.23.0 in /usr/local/lib/python3.10/dist-packages (from astunparse>=1.6.0->tensorflow==2.13.0) (0.42.0)\n",
            "Requirement already satisfied: google-auth<3,>=1.6.3 in /usr/local/lib/python3.10/dist-packages (from tensorboard<2.14,>=2.13->tensorflow==2.13.0) (2.17.3)\n",
            "Requirement already satisfied: google-auth-oauthlib<1.1,>=0.5 in /usr/local/lib/python3.10/dist-packages (from tensorboard<2.14,>=2.13->tensorflow==2.13.0) (1.0.0)\n",
            "Requirement already satisfied: markdown>=2.6.8 in /usr/local/lib/python3.10/dist-packages (from tensorboard<2.14,>=2.13->tensorflow==2.13.0) (3.5.1)\n",
            "Requirement already satisfied: requests<3,>=2.21.0 in /usr/local/lib/python3.10/dist-packages (from tensorboard<2.14,>=2.13->tensorflow==2.13.0) (2.31.0)\n",
            "Requirement already satisfied: tensorboard-data-server<0.8.0,>=0.7.0 in /usr/local/lib/python3.10/dist-packages (from tensorboard<2.14,>=2.13->tensorflow==2.13.0) (0.7.2)\n",
            "Requirement already satisfied: werkzeug>=1.0.1 in /usr/local/lib/python3.10/dist-packages (from tensorboard<2.14,>=2.13->tensorflow==2.13.0) (3.0.1)\n",
            "Requirement already satisfied: cachetools<6.0,>=2.0.0 in /usr/local/lib/python3.10/dist-packages (from google-auth<3,>=1.6.3->tensorboard<2.14,>=2.13->tensorflow==2.13.0) (5.3.2)\n",
            "Requirement already satisfied: pyasn1-modules>=0.2.1 in /usr/local/lib/python3.10/dist-packages (from google-auth<3,>=1.6.3->tensorboard<2.14,>=2.13->tensorflow==2.13.0) (0.3.0)\n",
            "Requirement already satisfied: rsa<5,>=3.1.4 in /usr/local/lib/python3.10/dist-packages (from google-auth<3,>=1.6.3->tensorboard<2.14,>=2.13->tensorflow==2.13.0) (4.9)\n",
            "Requirement already satisfied: requests-oauthlib>=0.7.0 in /usr/local/lib/python3.10/dist-packages (from google-auth-oauthlib<1.1,>=0.5->tensorboard<2.14,>=2.13->tensorflow==2.13.0) (1.3.1)\n",
            "Requirement already satisfied: charset-normalizer<4,>=2 in /usr/local/lib/python3.10/dist-packages (from requests<3,>=2.21.0->tensorboard<2.14,>=2.13->tensorflow==2.13.0) (3.3.2)\n",
            "Requirement already satisfied: idna<4,>=2.5 in /usr/local/lib/python3.10/dist-packages (from requests<3,>=2.21.0->tensorboard<2.14,>=2.13->tensorflow==2.13.0) (3.6)\n",
            "Requirement already satisfied: urllib3<3,>=1.21.1 in /usr/local/lib/python3.10/dist-packages (from requests<3,>=2.21.0->tensorboard<2.14,>=2.13->tensorflow==2.13.0) (2.0.7)\n",
            "Requirement already satisfied: certifi>=2017.4.17 in /usr/local/lib/python3.10/dist-packages (from requests<3,>=2.21.0->tensorboard<2.14,>=2.13->tensorflow==2.13.0) (2023.11.17)\n",
            "Requirement already satisfied: MarkupSafe>=2.1.1 in /usr/local/lib/python3.10/dist-packages (from werkzeug>=1.0.1->tensorboard<2.14,>=2.13->tensorflow==2.13.0) (2.1.3)\n",
            "Requirement already satisfied: pyasn1<0.6.0,>=0.4.6 in /usr/local/lib/python3.10/dist-packages (from pyasn1-modules>=0.2.1->google-auth<3,>=1.6.3->tensorboard<2.14,>=2.13->tensorflow==2.13.0) (0.5.1)\n",
            "Requirement already satisfied: oauthlib>=3.0.0 in /usr/local/lib/python3.10/dist-packages (from requests-oauthlib>=0.7.0->google-auth-oauthlib<1.1,>=0.5->tensorboard<2.14,>=2.13->tensorflow==2.13.0) (3.2.2)\n",
            "Installing collected packages: tensorflow-estimator, gast, tensorboard, tensorflow\n",
            "  Attempting uninstall: tensorflow-estimator\n",
            "    Found existing installation: tensorflow-estimator 2.14.0\n",
            "    Uninstalling tensorflow-estimator-2.14.0:\n",
            "      Successfully uninstalled tensorflow-estimator-2.14.0\n",
            "  Attempting uninstall: gast\n",
            "    Found existing installation: gast 0.5.4\n",
            "    Uninstalling gast-0.5.4:\n",
            "      Successfully uninstalled gast-0.5.4\n",
            "  Attempting uninstall: tensorboard\n",
            "    Found existing installation: tensorboard 2.14.1\n",
            "    Uninstalling tensorboard-2.14.1:\n",
            "      Successfully uninstalled tensorboard-2.14.1\n",
            "  Attempting uninstall: tensorflow\n",
            "    Found existing installation: tensorflow 2.14.0\n",
            "    Uninstalling tensorflow-2.14.0:\n",
            "      Successfully uninstalled tensorflow-2.14.0\n",
            "Successfully installed gast-0.4.0 tensorboard-2.13.0 tensorflow-2.13.0 tensorflow-estimator-2.13.0\n"
          ]
        }
      ]
    },
    {
      "cell_type": "code",
      "metadata": {
        "id": "0UIo9Y_bcT8s"
      },
      "source": [
        "# import libraries\n",
        "import matplotlib.pyplot as plt\n",
        "from sklearn import datasets\n",
        "from sklearn.model_selection import train_test_split"
      ],
      "execution_count": 2,
      "outputs": []
    },
    {
      "cell_type": "code",
      "execution_count": 3,
      "metadata": {
        "colab": {
          "base_uri": "https://localhost:8080/",
          "height": 227
        },
        "id": "qALJiYNCalua",
        "outputId": "d2336114-44b7-4891-80f9-18c4fa7ceba6"
      },
      "outputs": [
        {
          "output_type": "display_data",
          "data": {
            "text/plain": [
              "<Figure size 1000x300 with 4 Axes>"
            ],
            "image/png": "[encoded data removed]"
          },
          "metadata": {}
        }
      ],
      "source": [
        "# load dataset\n",
        "digits = datasets.load_digits()\n",
        "\n",
        "# visualize dataset\n",
        "_, axes = plt.subplots(nrows=1, ncols=4, figsize=(10, 3))\n",
        "for ax, image, label in zip(axes, digits.images, digits.target):\n",
        "    ax.set_axis_off()\n",
        "    ax.imshow(image, cmap=plt.cm.gray_r, interpolation=\"nearest\")\n",
        "    ax.set_title(\"Training: %i\" % label)"
      ]
    },
    {
      "cell_type": "code",
      "source": [
        "# Split data into 80% train+validation and 20% test subsets\n",
        "X_train_val, X_test, y_train_val, y_test = train_test_split(\n",
        "    digits.data, digits.target, test_size=0.2, shuffle=False\n",
        ")\n",
        "\n",
        "# Split the train+validation into 80% train and 20% validation subsets\n",
        "X_train, X_val, y_train, y_val = train_test_split(\n",
        "    X_train_val, y_train_val, test_size=0.2, shuffle=False\n",
        ")\n",
        "\n",
        "len(X_train), len(X_val), len(X_test)"
      ],
      "metadata": {
        "colab": {
          "base_uri": "https://localhost:8080/"
        },
        "id": "D1JO5OBehX0u",
        "outputId": "b4bae76c-dcf8-4361-9dab-68ac9431f2a7"
      },
      "execution_count": 4,
      "outputs": [
        {
          "output_type": "execute_result",
          "data": {
            "text/plain": [
              "(1149, 288, 360)"
            ]
          },
          "metadata": {},
          "execution_count": 4
        }
      ]
    },
    {
      "cell_type": "markdown",
      "source": [
        "We can visualize one example --- how a data sample looks like."
      ],
      "metadata": {
        "id": "A5a-lm9nhhDF"
      }
    },
    {
      "cell_type": "code",
      "source": [
        "X_train[0].shape"
      ],
      "metadata": {
        "colab": {
          "base_uri": "https://localhost:8080/"
        },
        "id": "EOx-ZnX9hePF",
        "outputId": "13809dab-3323-4c3d-b6b5-d0c682567fa1"
      },
      "execution_count": 5,
      "outputs": [
        {
          "output_type": "execute_result",
          "data": {
            "text/plain": [
              "(64,)"
            ]
          },
          "metadata": {},
          "execution_count": 5
        }
      ]
    },
    {
      "cell_type": "code",
      "source": [
        "X_train[0]"
      ],
      "metadata": {
        "colab": {
          "base_uri": "https://localhost:8080/"
        },
        "id": "znM8YJkuhqpJ",
        "outputId": "2c2cebfe-8984-47e0-a127-0e549450bea2"
      },
      "execution_count": 6,
      "outputs": [
        {
          "output_type": "execute_result",
          "data": {
            "text/plain": [
              "array([ 0.,  0.,  5., 13.,  9.,  1.,  0.,  0.,  0.,  0., 13., 15., 10.,\n",
              "       15.,  5.,  0.,  0.,  3., 15.,  2.,  0., 11.,  8.,  0.,  0.,  4.,\n",
              "       12.,  0.,  0.,  8.,  8.,  0.,  0.,  5.,  8.,  0.,  0.,  9.,  8.,\n",
              "        0.,  0.,  4., 11.,  0.,  1., 12.,  7.,  0.,  0.,  2., 14.,  5.,\n",
              "       10., 12.,  0.,  0.,  0.,  0.,  6., 13., 10.,  0.,  0.,  0.])"
            ]
          },
          "metadata": {},
          "execution_count": 6
        }
      ]
    },
    {
      "cell_type": "markdown",
      "source": [
        "It's a 1-dimensional array containing 64 integers, each representing the grey value of the corresponding pixel (the images were originally 8x8 pixels, but they have been flattened into a 1-dimensional array to use them more easily with the ML algorithms in Sklearn).\n",
        "We can now begin to train a Support Vector Machine for classifying the digits.\n",
        "We use a *polynomial kernel*: $K_{poly}(x_1, x_2) = (x_1^T x_2+e)^d$, where $d$ and $e$ are named *degree* and *coef0* in Sklearn, respectively. The parameter $e$ usually take the values {0,1}, while $d\\geq 1$ indicates that we are considering d-tuples of the input elements. When $d=1, e=0$ we get a special case called *linear kernel* (the $\\phi()$ corresponding to the linear kernel is $\\phi(x)→x$, the identity function, so we are using the input features as they are).\n",
        "We use a *polynomial kernel* with d=2, and we apply a gridsearch over the regularization parameter $C$ (other kernels are described in the [documentation](https://scikit-learn.org/stable/modules/generated/sklearn.svm.SVC.html))."
      ],
      "metadata": {
        "id": "yUSLKjBGhtae"
      }
    },
    {
      "cell_type": "code",
      "source": [
        "from sklearn.svm import SVC\n",
        "from sklearn.model_selection import GridSearchCV\n",
        "from sklearn.metrics import f1_score, accuracy_score\n",
        "\n",
        "\n",
        "svc_grid_params = {\n",
        "    'C': (0.1, 1., 10),\n",
        "}\n",
        "\n",
        "#define a new SVC (SVM for classification) with polynomial kernel (d=2, e=1) and fixed random state\n",
        "svc_clf = SVC(kernel = 'poly', degree=2, coef0=1, random_state=123)\n",
        "\n",
        "#define the gridsearch instance\n",
        "svc_v1 = GridSearchCV(svc_clf, svc_grid_params, n_jobs= -1, cv = 5)\n",
        "\n",
        "#fit over the training + validation\n",
        "svc_v1.fit(X_train_val, y_train_val)\n",
        "\n",
        "#see the grid-search validation performance\n",
        "svc_v1.best_score_"
      ],
      "metadata": {
        "colab": {
          "base_uri": "https://localhost:8080/"
        },
        "id": "8E5ldPmriJpc",
        "outputId": "18420b01-d3b7-4063-fc61-5bf073e949a5"
      },
      "execution_count": 7,
      "outputs": [
        {
          "output_type": "execute_result",
          "data": {
            "text/plain": [
              "0.968696767324816"
            ]
          },
          "metadata": {},
          "execution_count": 7
        }
      ]
    },
    {
      "cell_type": "markdown",
      "source": [
        "Models' performance can be evaluated in many ways. So far, we evaluate a model based on its capabilities at classifing some datapoints (e.g., accuracy score, F1-score). Another option is models' training time. In other words, in future, you might choose models you know perform well as accuracy, but also fast at training or prediction time.\n",
        "\n",
        "We now want to show you how to calculate the training time performance."
      ],
      "metadata": {
        "id": "JsQG1Acykawx"
      }
    },
    {
      "cell_type": "code",
      "source": [
        "import time\n",
        "import numpy as np\n",
        "\n",
        "#define the number of repetitions\n",
        "repetitions = 5\n",
        "\n",
        "#empty list saving the time\n",
        "t = []\n",
        "\n",
        "for _ in range(repetitions): #iterate over the repetitions\n",
        "    ## training block\n",
        "    svc_grid_params = {'C': (0.1, 1., 10)}\n",
        "    svc_clf = SVC(kernel = 'linear', random_state=123)\n",
        "    svc_v1 = GridSearchCV(svc_clf, svc_grid_params, n_jobs= -1, cv = 5)\n",
        "    start_time = time.time() # get the starting time\n",
        "    svc_v1.fit(X_train_val, y_train_val)\n",
        "    end_time = time.time() # get the ending time\n",
        "\n",
        "    delta = end_time - start_time\n",
        "    t.append(delta)\n",
        "\n",
        "np.mean(t)"
      ],
      "metadata": {
        "colab": {
          "base_uri": "https://localhost:8080/"
        },
        "id": "TnDXDSkxlCiD",
        "outputId": "7e210e8a-1c15-4559-8149-4f2f0e9ea7d8"
      },
      "execution_count": 10,
      "outputs": [
        {
          "output_type": "execute_result",
          "data": {
            "text/plain": [
              "0.39022021293640136"
            ]
          },
          "metadata": {},
          "execution_count": 10
        }
      ]
    },
    {
      "cell_type": "markdown",
      "source": [
        "On average, it took us between $0.40$ and $0.55$ seconds to train an SVC with linear kernel. Notice that we repeat the training five times and get the average of the execution times because the notebooks are run on a computer in which multiple programs are running simultaneously, therefore each execution could take  different timings (and you might get an average different than ours)."
      ],
      "metadata": {
        "id": "USMdUhRP4OoD"
      }
    },
    {
      "cell_type": "markdown",
      "source": [
        "# Exercises"
      ],
      "metadata": {
        "id": "C_0q-ERD4ZAx"
      }
    },
    {
      "cell_type": "markdown",
      "source": [
        "## Exercise 1: Error Analysis\n",
        "\n",
        "The role of a data scientist is not only to train models, but also to analyse their outcomes.\n",
        "\n",
        "The *error analysis* is an example of such analyses, and something you should always do after training your models.\n",
        "With this analysis, your aim is to answer the following question: \"Why is my model mispredicting some samples?\"\n",
        "\n",
        "For example, sometimes the errors are legitimate. We are going to see an example now."
      ],
      "metadata": {
        "id": "WBzW5-Ob4a9k"
      }
    },
    {
      "cell_type": "markdown",
      "source": [
        "### Exercise 1.1\n",
        "\n",
        "Using the dataset adopted during the theoretical part of the lab, select the best hyperparameters for an SVC using the following values:\n",
        "\n",
        "    - kernel = 'rbf'\n",
        "    - random_state = 123\n",
        "    - C = [0.1, 1, 10]\n",
        "\n",
        "Use the data splits done in the previous part as well (apply cross validation on train+val).\n",
        "For the task, use the GridSearchCV with standard parameters as we always did.\n",
        "\n",
        "Finally, compute the accuracy on the test set using the selected best model."
      ],
      "metadata": {
        "id": "p1-ZQZ4V4l-u"
      }
    },
    {
      "cell_type": "code",
      "source": [
        "# load dataset\n",
        "from sklearn import datasets\n",
        "from sklearn.model_selection import train_test_split\n",
        "from sklearn.svm import SVC\n",
        "from sklearn.model_selection import GridSearchCV\n",
        "from sklearn.metrics import f1_score, accuracy_score\n",
        "digits = datasets.load_digits()\n",
        "\n",
        "# Split data into 80% train+validation and 20% test subsets\n",
        "X_train_val, X_test, y_train_val, y_test = train_test_split(\n",
        "    digits.data, digits.target, test_size=0.2, shuffle=False\n",
        ")\n",
        "\n",
        "# Split the train+validation into 80% train and 20% validation subsets\n",
        "X_train, X_val, y_train, y_val = train_test_split(\n",
        "    X_train_val, y_train_val, test_size=0.2, shuffle=False\n",
        ")\n",
        "\n",
        "len(X_train), len(X_val), len(X_test)\n"
      ],
      "metadata": {
        "colab": {
          "base_uri": "https://localhost:8080/"
        },
        "id": "shfTUJ9ua2Ea",
        "outputId": "ee26942a-17fa-4df4-de7b-a5724c9d2b34"
      },
      "execution_count": 11,
      "outputs": [
        {
          "output_type": "execute_result",
          "data": {
            "text/plain": [
              "(1149, 288, 360)"
            ]
          },
          "metadata": {},
          "execution_count": 11
        }
      ]
    },
    {
      "cell_type": "code",
      "source": [
        "## Ex 1.1 here\n",
        "from sklearn.metrics import confusion_matrix, ConfusionMatrixDisplay\n",
        "svc_grid_params = {\n",
        "    'C': (0.1, 1., 10),\n",
        "}\n",
        "\n",
        "#define a new SVC (SVM for classification) with polynomial kernel (d=2, e=1) and fixed random state\n",
        "svc_clf = SVC(kernel = 'rbf', C = svc_grid_params, random_state=123)\n",
        "\n",
        "#define the gridsearch instance\n",
        "svc_v1 = GridSearchCV(svc_clf, svc_grid_params, n_jobs= -1, cv = 5)\n",
        "\n",
        "#fit over the training + validation\n",
        "svc_v1.fit(X_train_val, y_train_val)\n",
        "\n",
        "#see the grid-search validation performance\n",
        "svc_v1.best_score_\n",
        "best_c = svc_v1.best_params_[\"C\"]\n",
        "\n",
        "svc_clf_best = SVC(kernel = 'rbf', C = best_c, random_state=123)\n",
        "svc_clf_best.fit(X_train_val, y_train_val)\n",
        "pred = svc_clf_best.predict(X_test)\n",
        "print(y_test, pred)\n",
        "\n",
        "confusion_matrix = confusion_matrix(y_test, pred)\n",
        "confusion_matric_display = ConfusionMatrixDisplay(confusion_matrix)\n",
        "confusion_matric_display.plot()\n",
        "plt.show()\n",
        "\n",
        "\n"
      ],
      "metadata": {
        "id": "1ntV5Q-v5DyD",
        "colab": {
          "base_uri": "https://localhost:8080/",
          "height": 779
        },
        "outputId": "3f6e6e26-531c-4698-fe7d-a63e95b2284b"
      },
      "execution_count": 36,
      "outputs": [
        {
          "output_type": "stream",
          "name": "stdout",
          "text": [
            "[2 3 4 5 6 7 8 9 0 9 5 5 6 5 0 9 8 9 8 4 1 7 7 3 5 1 0 0 2 2 7 8 2 0 1 2 6\n",
            " 3 3 7 3 3 4 6 6 6 4 9 1 5 0 9 5 2 8 2 0 0 1 7 6 3 2 1 7 4 6 3 1 3 9 1 7 6\n",
            " 8 4 3 1 4 0 5 3 6 9 6 1 7 5 4 4 7 2 8 2 2 5 7 9 5 4 8 8 4 9 0 8 9 8 0 1 2\n",
            " 3 4 5 6 7 8 9 0 1 2 3 4 5 6 9 0 1 2 3 4 5 6 7 8 9 0 9 5 5 6 5 0 9 8 9 8 4\n",
            " 1 7 7 3 5 1 0 0 2 2 7 8 2 0 1 2 6 3 3 7 3 3 4 6 6 6 4 9 1 5 0 9 5 2 8 0 1\n",
            " 7 6 3 2 1 7 4 6 3 1 3 9 1 7 6 8 4 3 1 4 0 5 3 6 9 6 1 7 5 4 4 7 2 2 5 7 9\n",
            " 5 4 4 9 0 8 9 8 0 1 2 3 4 5 6 7 8 9 0 1 2 3 4 5 6 7 8 9 0 1 2 3 4 5 6 7 8\n",
            " 9 0 9 5 5 6 5 0 9 8 9 8 4 1 7 7 3 5 1 0 0 2 2 7 8 2 0 1 2 6 3 3 7 3 3 4 6\n",
            " 6 6 4 9 1 5 0 9 5 2 8 2 0 0 1 7 6 3 2 1 7 4 6 3 1 3 9 1 7 6 8 4 3 1 4 0 5\n",
            " 3 6 9 6 1 7 5 4 4 7 2 8 2 2 5 7 9 5 4 8 8 4 9 0 8 9 8] [2 3 4 5 6 7 8 9 0 9 5 5 6 5 0 9 8 9 8 4 1 7 7 3 5 1 0 0 2 2 7 8 2 0 1 2 6\n",
            " 3 3 7 3 3 4 6 6 6 4 9 1 5 0 9 5 2 8 2 0 0 1 7 6 3 2 1 7 4 6 3 1 3 9 1 7 6\n",
            " 8 4 3 1 4 0 5 3 6 9 6 1 7 5 4 4 7 2 8 2 2 5 7 9 5 4 8 8 4 9 0 7 9 8 0 1 2\n",
            " 3 4 5 6 7 1 9 0 1 2 3 4 5 6 7 0 1 2 3 4 5 6 7 1 9 4 9 5 5 6 5 0 9 8 9 8 4\n",
            " 1 7 7 3 5 1 0 0 2 2 7 8 2 0 1 2 6 8 3 7 3 3 4 6 6 6 9 9 1 5 0 9 5 2 8 0 1\n",
            " 7 6 3 2 1 7 9 6 3 1 3 9 1 7 6 8 4 3 1 4 0 5 3 6 9 6 1 7 5 4 4 7 2 2 5 7 8\n",
            " 5 9 4 5 0 8 9 8 0 1 2 3 4 5 6 7 8 9 0 1 2 3 4 5 6 7 8 9 0 1 2 8 4 5 6 7 8\n",
            " 9 0 9 5 5 6 5 0 9 8 9 8 4 1 7 7 3 5 1 0 0 2 2 7 8 2 0 1 2 6 3 8 7 5 3 4 6\n",
            " 6 6 4 9 1 5 0 9 5 2 8 2 0 0 1 7 6 3 2 1 7 4 6 3 1 3 9 1 7 6 8 4 5 1 4 0 5\n",
            " 3 6 9 6 1 7 5 4 4 7 2 8 2 2 5 7 9 5 4 8 8 4 9 0 8 9 8]\n"
          ]
        },
        {
          "output_type": "display_data",
          "data": {
            "text/plain": [
              "<Figure size 640x480 with 2 Axes>"
            ],
            "image/png": "[encoded data removed]"
          },
          "metadata": {}
        }
      ]
    },
    {
      "cell_type": "markdown",
      "source": [
        "Look at the <a href=\"https://scikit-learn.org/stable/modules/generated/sklearn.metrics.ConfusionMatrixDisplay.html\"> [link] </a>.\n",
        "Use the functions described there (specifically in the first example) to create a ConfusionMatrix using the best model you found.\n",
        "\n",
        "Do you see any interesting pattern?\n"
      ],
      "metadata": {
        "id": "QC1_3-n55PfZ"
      }
    },
    {
      "cell_type": "code",
      "source": [
        "## Ex 1.2 here\n",
        "from sklearn.metrics import ConfusionMatrixDisplay\n",
        "confusion_matrix_display = ConfusionMatrixDisplay(svc_v1.p)\n",
        "#confusion_matrix_display\n"
      ],
      "metadata": {
        "id": "t8gf7oCz5cZJ",
        "colab": {
          "base_uri": "https://localhost:8080/",
          "height": 228
        },
        "outputId": "f2bfa979-c4e6-4d5a-8481-c0c47ea2796f"
      },
      "execution_count": 37,
      "outputs": [
        {
          "output_type": "error",
          "ename": "AttributeError",
          "evalue": "ignored",
          "traceback": [
            "\u001b[0;31m---------------------------------------------------------------------------\u001b[0m",
            "\u001b[0;31mAttributeError\u001b[0m                            Traceback (most recent call last)",
            "\u001b[0;32m<ipython-input-37-a9429576b8a5>\u001b[0m in \u001b[0;36m<cell line: 3>\u001b[0;34m()\u001b[0m\n\u001b[1;32m      1\u001b[0m \u001b[0;31m## Ex 1.2 here\u001b[0m\u001b[0;34m\u001b[0m\u001b[0;34m\u001b[0m\u001b[0m\n\u001b[1;32m      2\u001b[0m \u001b[0;32mfrom\u001b[0m \u001b[0msklearn\u001b[0m\u001b[0;34m.\u001b[0m\u001b[0mmetrics\u001b[0m \u001b[0;32mimport\u001b[0m \u001b[0mConfusionMatrixDisplay\u001b[0m\u001b[0;34m\u001b[0m\u001b[0;34m\u001b[0m\u001b[0m\n\u001b[0;32m----> 3\u001b[0;31m \u001b[0mconfusion_matrix_display\u001b[0m \u001b[0;34m=\u001b[0m \u001b[0mConfusionMatrixDisplay\u001b[0m\u001b[0;34m(\u001b[0m\u001b[0msvc_v1\u001b[0m\u001b[0;34m.\u001b[0m\u001b[0mp\u001b[0m\u001b[0;34m)\u001b[0m\u001b[0;34m\u001b[0m\u001b[0;34m\u001b[0m\u001b[0m\n\u001b[0m\u001b[1;32m      4\u001b[0m \u001b[0;31m#confusion_matrix_display\u001b[0m\u001b[0;34m\u001b[0m\u001b[0;34m\u001b[0m\u001b[0m\n",
            "\u001b[0;31mAttributeError\u001b[0m: 'GridSearchCV' object has no attribute 'p'"
          ]
        }
      ]
    },
    {
      "cell_type": "markdown",
      "source": [
        "If everything is correct, you should notice that the diagonals contains high values: this is expected, as it means that most of the predictions are correct.\n",
        "Another interesting patterns can be found are the mispredictions. There are three examples of class 4 which are predicted as class 9. Let's see how they look like. Run the following code.\n"
      ],
      "metadata": {
        "id": "JIpuhn6Z5ur_"
      }
    },
    {
      "cell_type": "code",
      "source": [
        "indices = np.all([ (y_test==4), (pred==9) ], axis=0) # find the index of the examples of class 4 predicted as class 9\n",
        "                                                            # np.all returns the elements of the input vector that satisfy all conditions\n",
        "_, axes = plt.subplots(nrows=1, ncols=sum(indices==True), figsize=(10, 3))\n",
        "for ax, image, label, pred_label in zip(axes, X_test[indices], y_test[indices], pred[indices]):\n",
        "    ax.set_axis_off()\n",
        "    ax.imshow(image.reshape(8,8), cmap=plt.cm.gray_r, interpolation=\"nearest\")\n",
        "    ax.set_title(\"Test: %i\\nPred: %i\" % (label, pred_label))\n"
      ],
      "metadata": {
        "colab": {
          "base_uri": "https://localhost:8080/",
          "height": 308
        },
        "id": "IKCPBZ-o6FKv",
        "outputId": "322f49be-d1d4-4b25-8bd1-86d6639a3b49"
      },
      "execution_count": 39,
      "outputs": [
        {
          "output_type": "display_data",
          "data": {
            "text/plain": [
              "<Figure size 1000x300 with 3 Axes>"
            ],
            "image/png": "[encoded data removed]"
          },
          "metadata": {}
        }
      ]
    },
    {
      "cell_type": "markdown",
      "source": [
        "We could argue that those seem more like 9s instead of 4s, in other words the labels are a bit noisy. As a result, we might decide not to spend time improving the performance of the algorithm, as they are not obvious errors.\n",
        "\n",
        "These examples could be used when discussing the performance of our learning system with the clients, to show that those are mistakes that even some humans would do (of course before we need to check that the same happens for the other mistakes).\n",
        "\n",
        "In summary, sometimes it is ok to have classifiers that do mistakes if these mistakes \"make sense\" somehow.\n"
      ],
      "metadata": {
        "id": "Q6h5NtRh6Jbh"
      }
    },
    {
      "cell_type": "markdown",
      "source": [
        "## Exercise 2: Visualising the Use of Different kernels"
      ],
      "metadata": {
        "id": "fusrdBKnLuqC"
      }
    },
    {
      "cell_type": "markdown",
      "source": [
        "Recall that the SVM corresponds to a linear discriminant function in the feature space $\\phi$. But how does the discriminat function look back in the input space? In this exercise, we will see how its change for different kernels and parameters. We start by creating a dataset, as usual."
      ],
      "metadata": {
        "id": "1SlTdXOGY9W-"
      }
    },
    {
      "cell_type": "code",
      "source": [
        "#import the data\n",
        "from sklearn import datasets\n",
        "from sklearn.preprocessing import StandardScaler\n",
        "from sklearn.model_selection import train_test_split\n",
        "import matplotlib.pyplot as plt\n",
        "\n",
        "X, y = datasets.make_classification(n_samples=700, n_features=2, random_state=124, n_redundant= 0, n_informative=2, scale=10, shift=10)\n",
        "X[:, 0] = X[:, 0]*0.1\n",
        "\n",
        "# split the data into training, and testing set.\n",
        "# note: for this exercise we avoid the validation set since\n",
        "# we only aim to understand how different models perform.\n",
        "# we do not adopt any validation process\n",
        "X_train, X_test, y_train, y_test = train_test_split(X,y,train_size=0.8, shuffle=False)\n",
        "\n",
        "# scale\n",
        "scl = StandardScaler()\n",
        "scl.fit(X_train)\n",
        "X_train = scl.transform(X_train)\n",
        "X_test = scl.transform(X_test)\n",
        "\n",
        "\n",
        "# visualize the data\n",
        "fig = plt.figure(figsize=(10,8))\n",
        "plt.plot(X_train[:, 0][y_train == 0], X_train[:, 1][y_train == 0], 'r^')\n",
        "plt.plot(X_train[:, 0][y_train == 1], X_train[:, 1][y_train == 1], 'bs')\n",
        "plt.xlabel(\"X1\")\n",
        "plt.ylabel(\"X2\")\n",
        "plt.title('Random Classification Data with 2 classes')\n"
      ],
      "metadata": {
        "colab": {
          "base_uri": "https://localhost:8080/",
          "height": 735
        },
        "id": "xMOfCpE2-64Q",
        "outputId": "5e65437d-953b-432e-c8de-0412bf9e38cb"
      },
      "execution_count": 40,
      "outputs": [
        {
          "output_type": "execute_result",
          "data": {
            "text/plain": [
              "Text(0.5, 1.0, 'Random Classification Data with 2 classes')"
            ]
          },
          "metadata": {},
          "execution_count": 40
        },
        {
          "output_type": "display_data",
          "data": {
            "text/plain": [
              "<Figure size 1000x800 with 1 Axes>"
            ],
            "image/png": "[encoded data removed]"
          },
          "metadata": {}
        }
      ]
    },
    {
      "cell_type": "markdown",
      "source": [
        "We now create the function that, given a trained model, some data samples $X$, and the ground truth $y$, plots the model decision boundary."
      ],
      "metadata": {
        "id": "z-XG721nTAmz"
      }
    },
    {
      "cell_type": "code",
      "source": [
        "import numpy as np\n",
        "import matplotlib.pyplot as plt\n",
        "import pandas as pd\n",
        "from sklearn.svm import SVC\n",
        "from sklearn.metrics import accuracy_score\n",
        "\n",
        "\n",
        "def plot_discriminat_function(X,y, trained_model):\n",
        "    ## Plotting\n",
        "    x_min, x_max = X[:, 0].min() - 1, X[:, 0].max() + 1\n",
        "    y_min, y_max = X[:, 1].min() - 1, X[:, 1].max() + 1\n",
        "    # h = (x_max / x_min)/100\n",
        "    # xx, yy = np.meshgrid(np.arange(x_min, x_max, h), np.arange(y_min, y_max, h))\n",
        "    # X_plot = np.c_[xx.ravel(), yy.ravel()]\n",
        "    x_span = np.linspace(x_min, x_max, 100)\n",
        "    y_span = np.linspace(y_min, y_max, 100)\n",
        "    xx, yy = np.meshgrid(x_span, y_span)\n",
        "    X_plot = np.c_[xx.ravel(), yy.ravel()]\n",
        "\n",
        "    predicted = trained_model.predict(X_plot)\n",
        "    predicted = predicted.reshape(xx.shape)\n",
        "\n",
        "    plt.figure(figsize=(15, 5))\n",
        "    plt.subplot(121)\n",
        "    plt.contourf(xx, yy, predicted, alpha=0.5)\n",
        "    plt.set_cmap(\"gist_rainbow\")\n",
        "    # plt.scatter(X[:, 0], X[:, 1], c=y, cmap=plt.cm.Set1)\n",
        "    plt.plot(X[:, 0][y == 0], X[:, 1][y == 0], 'r^')\n",
        "    plt.plot(X[:, 0][y == 1], X[:, 1][y == 1], 'bs')\n",
        "\n",
        "    plt.xlabel('X1')\n",
        "    plt.ylabel('X2')\n",
        "    plt.xlim(xx.min(), xx.max())\n",
        "    plt.title(trained_model)\n",
        "    plt.show()\n"
      ],
      "metadata": {
        "id": "I5oLY_XgS82W"
      },
      "execution_count": 42,
      "outputs": []
    },
    {
      "cell_type": "markdown",
      "source": [
        "### Exercise 2.1\n",
        "\n",
        "Train an SVC with:\n",
        "\n",
        "\n",
        "*   kernel = 'poly'\n",
        "*   degree = 2\n",
        "*   coef0 = 1\n",
        "*   random_state = 123\n",
        "\n",
        "Feed the trained model into *plot_discriminat_function*, and visually analze the obtained decision boundary.\n",
        "\n"
      ],
      "metadata": {
        "id": "1A8lEDArLQaA"
      }
    },
    {
      "cell_type": "code",
      "source": [
        "# EX 2.1\n",
        "model = SVC(kernel=\"poly\", degree=2, coef0=1, random_state=123)\n",
        "model.fit(X_train, y_train)\n",
        "plot_discriminat_function(X = X, y = y, trained_model= model)\n",
        "\n"
      ],
      "metadata": {
        "id": "POTDLuede8tA",
        "colab": {
          "base_uri": "https://localhost:8080/",
          "height": 487
        },
        "outputId": "6f2059a5-233c-4908-ac9a-328a75a2887b"
      },
      "execution_count": 46,
      "outputs": [
        {
          "output_type": "display_data",
          "data": {
            "text/plain": [
              "<Figure size 1500x500 with 1 Axes>"
            ],
            "image/png": "[encoded data removed]"
          },
          "metadata": {}
        }
      ]
    },
    {
      "cell_type": "markdown",
      "source": [
        "You should notice that the discriminant function is not a line in the input space."
      ],
      "metadata": {
        "id": "ViVjs4dlfh8d"
      }
    },
    {
      "cell_type": "markdown",
      "source": [
        "### Exercise 2.2\n",
        "\n",
        "Let's define now a function that, given a trained model, computes training and testing accuracy.\n",
        "\n",
        "Then, use this function over the model trained in Exercise 2.1 (previous step)."
      ],
      "metadata": {
        "id": "s9LfPR7ifvEu"
      }
    },
    {
      "cell_type": "code",
      "source": [
        "# EX 2.2\n",
        "def compute_accuracy(trained_model, X_train, y_train, X_test, y_test):\n",
        "  pred_test = trained_model.predict(X_test)\n",
        "  acc_test = f1_score(y_test, pred_test)\n",
        "\n",
        "  pred_train = trained_model.predict(X_train)\n",
        "  acc_train = f1_score(y_train, pred_train)\n",
        "  return f\"Training acc: {acc_train}\\nTest acc: {acc_test}\"\n",
        "\n",
        "compute_accuracy(model, X_train, y_train, X_test, y_test)\n"
      ],
      "metadata": {
        "id": "UGOb1HQCgEzT",
        "colab": {
          "base_uri": "https://localhost:8080/",
          "height": 35
        },
        "outputId": "0c859c61-1830-49e1-c6b9-5eb2692060c7"
      },
      "execution_count": 48,
      "outputs": [
        {
          "output_type": "execute_result",
          "data": {
            "text/plain": [
              "'Training acc: 0.9338103756708408\\nTest acc: 0.9022556390977443'"
            ],
            "application/vnd.google.colaboratory.intrinsic+json": {
              "type": "string"
            }
          },
          "metadata": {},
          "execution_count": 48
        }
      ]
    },
    {
      "cell_type": "markdown",
      "source": [
        "### Exercise 2.3\n",
        "\n",
        "Repeat the experiment with an SVC with linear kernel and random_state=123. Compare it with the polynomial one in terms of both accuracy (training and testing time) and discriminant function (using the plotting function)."
      ],
      "metadata": {
        "id": "Tq4PNhS7g4Ef"
      }
    },
    {
      "cell_type": "code",
      "source": [
        "## EX 2.3\n",
        "model_linear = SVC(kernel=\"linear\", random_state=123)\n",
        "model_linear.fit(X_train, y_train)\n",
        "\n",
        "compute_accuracy(model, X_train, y_train, X_test, y_test), compute_accuracy(model_linear, X_train, y_train, X_test, y_test)\n"
      ],
      "metadata": {
        "id": "LRY59IBxhY3h",
        "colab": {
          "base_uri": "https://localhost:8080/"
        },
        "outputId": "50d9959d-8e21-41e5-ab88-e33a2348be57"
      },
      "execution_count": 49,
      "outputs": [
        {
          "output_type": "execute_result",
          "data": {
            "text/plain": [
              "('Training acc: 0.9338103756708408\\nTest acc: 0.9022556390977443',\n",
              " 'Training acc: 0.8876811594202898\\nTest acc: 0.8319999999999999')"
            ]
          },
          "metadata": {},
          "execution_count": 49
        }
      ]
    },
    {
      "cell_type": "markdown",
      "source": [
        "### Exercise 2.4\n",
        "\n",
        "Repeat what done in Exercise 2.3.\n",
        "This time, use an RBF kernel at the varying of $\\sigma$ = [0.001, 0.1, 10, 100, 500], while keeping the random_state as 123."
      ],
      "metadata": {
        "id": "VlQvYrM_Ld07"
      }
    },
    {
      "cell_type": "code",
      "source": [
        "# EX 2.4 here\n",
        "sigma_params = {\n",
        "    \"gamma\": (1/0.001, 1/0.1, 1/10, 1/100, 1/500)\n",
        "}\n",
        "model_rbf = SVC(kernel=\"rbf\", gamma=sigma_params, random_state=123)\n",
        "model."
      ],
      "metadata": {
        "id": "YqD5vPswP670"
      },
      "execution_count": null,
      "outputs": []
    },
    {
      "cell_type": "markdown",
      "source": [
        "You should notice that the higher $\\sigma$, the better the model over the training data.\n",
        "\n",
        "However, the accuracy on the test set does not show the same behaviour: it improves until $\\sigma=10$, and then it decreses. With high $\\sigma$ values we overfit our data, meaning that the decision function tends to coincide with the training examples of the blue class (basically it's memorizing them)."
      ],
      "metadata": {
        "id": "RO6JaUoyRGqw"
      }
    },
    {
      "cell_type": "markdown",
      "source": [
        "## Exercise 3: Comparing the Execution Times of Learning Algorithms\n",
        "\n",
        "In this exercise, we are going to experiment with the computational cost, i.e. training and prediction time, of different learning algorithms.\n",
        "\n",
        "The exercise is conducted over the *MNIST* dataset. Since we will not optimising the hyperparameters of the learning algorithms, but we will use the default values, we don't have to create the validation set.\n",
        "\n",
        "**ALERT: for this entire exercise, do not set any random_state**"
      ],
      "metadata": {
        "id": "PVAv4ILo0A2o"
      }
    },
    {
      "cell_type": "code",
      "source": [
        "from sklearn.preprocessing import StandardScaler\n",
        "# Split data into 80% train and 20% test subsets\n",
        "X_train, X_test, y_train, y_test = train_test_split(\n",
        "    digits.data, digits.target, test_size=0.2, shuffle=False\n",
        ")\n",
        "\n",
        "### scale the data\n",
        "scl = StandardScaler().fit(X_train)\n",
        "X_train_scl = scl.transform(X_train)\n",
        "X_test_scl = scl.transform(X_test)\n",
        "\n",
        "num_classes = len(set(y_train))\n",
        "num_features = X_train.shape[1]\n",
        "\n",
        "print(f\"train size={len(X_train_scl)}, test size={len(X_test_scl)}\")\n",
        "print(f\"number of features = {num_features}; number of classes = {num_classes}\")"
      ],
      "metadata": {
        "id": "uUOkdvei0A2x",
        "colab": {
          "base_uri": "https://localhost:8080/"
        },
        "outputId": "00b77201-3047-480d-a6b2-be718aaa3a57"
      },
      "execution_count": null,
      "outputs": [
        {
          "output_type": "stream",
          "name": "stdout",
          "text": [
            "train size=1437, test size=360\n",
            "number of features = 64; number of classes = 10\n"
          ]
        }
      ]
    },
    {
      "cell_type": "markdown",
      "source": [
        "### Exercise 3.1: Function for Collecting Stats on Execution Time and Accuracy\n",
        "\n",
        "Create a function that, given a learning algorithm implemented in Sklearn: 1) trains it on the training set; 2) computes the predictions over training and test sets.\n",
        "The function must keep track of the time needed to do training, that needed to make predictions and the accuracies on the training and test sets.\n",
        "\n",
        "Such values should be defined as the average over 5 executions.\n",
        "More precisely, the results should be added to the following lists:\n",
        "\n",
        "1.   tr_time_list = list containing the training time of a specific model.\n",
        "2.   te_time_list = list containing the testing time of a specific model; this execution time contains the prediction on both train and test splits.\n",
        "3.   tr_acc_list = list containing the training accuracy of a specific model.\n",
        "4.   te_acc_list = list containing the accuracy on the test set of a specific model.\n",
        "5.   model_name_list = list containing the model name.\n",
        "\n",
        "Complete the code below that implements the function described in this box."
      ],
      "metadata": {
        "id": "_biIUlTV0A2x"
      }
    },
    {
      "cell_type": "code",
      "source": [
        "## Ex 3.1\n",
        "from sklearn.linear_model import Perceptron\n",
        "\n",
        "def test_algorithm(learning_alg, X_train, y_train, X_test, y_test):\n",
        "\n",
        "  #empty list to keep track of the running times and accuracy values of each repetition\n",
        "  train_time, test_time, train_accuracy, test_accuracy = [], [], [], []\n",
        "\n",
        "  #\n",
        "  # ADD YOUR CODE HERE\n",
        "  #\n",
        "\n",
        "  #the function need to return all the stats computed. The following line of code does that\n",
        "  return np.mean(train_time), np.mean(test_time), np.mean(train_accuracy), np.mean(test_accuracy)\n",
        "\n",
        "# You can test your function by invoking it as follows\n",
        "clf = Perceptron()\n",
        "tr_time, te_time, tr_acc, te_acc = test_algorithm(clf, X_train_scl,y_train, X_test_scl, y_test)\n",
        "print(f\"Perceptron\\n   Training time: {tr_time}\\n   Prediction time: {te_time}\")\n",
        "print(f\"   Accuracy on train: {tr_acc}\\n   Accuracy on test {te_acc}\")"
      ],
      "metadata": {
        "id": "r9ERa9DL0A2y"
      },
      "execution_count": null,
      "outputs": []
    },
    {
      "cell_type": "markdown",
      "source": [
        "### Exercise 3.2\n",
        "\n",
        "Now use the function test_algorithm() implemented in the previous exercise to collect statistics for the following models:\n",
        "\n",
        "1. Perceptron\n",
        "2. Logistic Regression\n",
        "3. SVM with linear kernel\n",
        "4. SVM with polynomial kernel of degree 2\n",
        "5. SVM with polynomial kernel of degree 3\n",
        "6. Decision Tree using Entropy for splitting\n",
        "7. K-NN with K=3\n",
        "\n",
        "The final statistics must be collected in the following lists: tr_time_list, te_time_list, tr_acc_list, te_acc_list, model_name_list, which are defined in the previuos exercise.\n",
        "\n",
        "In order to reduce your waiting time, you might want to use more than one cell, even one per algorithm."
      ],
      "metadata": {
        "id": "LC77ALWr0A2y"
      }
    },
    {
      "cell_type": "code",
      "source": [
        "# EX 1.2\n",
        "from sklearn.linear_model import LogisticRegression\n",
        "from sklearn.svm import SVC\n",
        "from sklearn import tree\n",
        "\n",
        "#initialize the lists collecting the stats\n",
        "tr_time_list, te_time_list, tr_acc_list, te_acc_list, model_name_list = [], [], [], [], []\n",
        "\n",
        "## ADD YOUR CODE HERE THAT INVOKES test_algorithm() and collects the statistics in the lists above\n",
        "\n"
      ],
      "metadata": {
        "id": "EmchSJh9Ik72"
      },
      "execution_count": null,
      "outputs": []
    },
    {
      "cell_type": "markdown",
      "source": [
        "### Visualising the Results\n",
        "\n",
        "We can now visualise the results obtained. Remember that here, each of the five lists must contain 7 values. Double check it: if you have more, you might have re-executed a cell multiple times. If so, just re-execute the entire notebook."
      ],
      "metadata": {
        "id": "g8xY-UfS0A20"
      }
    },
    {
      "cell_type": "code",
      "source": [
        "#this cell checks if you have the right amount of info\n",
        "expected_list_length = 7\n",
        "assert len(tr_acc_list) == expected_list_length\n",
        "assert len(te_acc_list) == expected_list_length\n",
        "assert len(tr_time_list) == expected_list_length\n",
        "assert len(te_time_list) == expected_list_length\n",
        "assert len(model_name_list) == expected_list_length"
      ],
      "metadata": {
        "id": "SUiGOOID0A20"
      },
      "execution_count": null,
      "outputs": []
    },
    {
      "cell_type": "code",
      "source": [
        "import matplotlib.cm as cm\n",
        "colors = cm.rainbow(np.linspace(0, 1, len(model_name_list)))\n",
        "for x, y, c, m in zip(te_acc_list, tr_time_list, colors, model_name_list):\n",
        "    plt.scatter(x, y, color = c, label = m)\n",
        "plt.legend()\n",
        "plt.xlabel(\"Test Accuracy\")\n",
        "plt.ylabel(\"Training Time [s]\")\n"
      ],
      "metadata": {
        "id": "4lQf0yi-0A20",
        "colab": {
          "base_uri": "https://localhost:8080/",
          "height": 297
        },
        "outputId": "f4bfb8d2-8c1a-4d09-d68b-1954a2a03aa1"
      },
      "execution_count": null,
      "outputs": [
        {
          "output_type": "execute_result",
          "data": {
            "text/plain": [
              "Text(0, 0.5, 'Training Time [s]')"
            ]
          },
          "metadata": {},
          "execution_count": 89
        },
        {
          "output_type": "display_data",
          "data": {
            "text/plain": [
              "<Figure size 432x288 with 1 Axes>"
            ],
            "image/png": "[encoded data removed]"
          },
          "metadata": {
            "needs_background": "light"
          }
        }
      ]
    },
    {
      "cell_type": "code",
      "source": [
        "import matplotlib.cm as cm\n",
        "colors = cm.rainbow(np.linspace(0, 1, len(model_name_list)))\n",
        "for x, y, c, m in zip(te_acc_list, te_time_list, colors, model_name_list):\n",
        "    plt.scatter(x, y, color = c, label = m)\n",
        "plt.legend()\n",
        "plt.xlabel(\"Test Accuracy\")\n",
        "plt.ylabel(\"Prediction Time [s]\")\n"
      ],
      "metadata": {
        "id": "wepQtM1v0A20",
        "colab": {
          "base_uri": "https://localhost:8080/",
          "height": 299
        },
        "outputId": "fe1cc8e3-262a-4431-9083-7a9a41651cee"
      },
      "execution_count": null,
      "outputs": [
        {
          "output_type": "execute_result",
          "data": {
            "text/plain": [
              "Text(0, 0.5, 'Prediction Time [s]')"
            ]
          },
          "metadata": {},
          "execution_count": 90
        },
        {
          "output_type": "display_data",
          "data": {
            "text/plain": [
              "<Figure size 432x288 with 1 Axes>"
            ],
            "image/png": "[encoded data removed]"
          },
          "metadata": {
            "needs_background": "light"
          }
        }
      ]
    },
    {
      "cell_type": "markdown",
      "metadata": {
        "id": "egfEBWwVL97q"
      },
      "source": [
        "# Ex 3.3\n",
        "\n",
        "In this new exercise, it's time to be more independent from us. \\\n",
        "Try and get good performances on the *wine_dataset*.\n",
        "\n",
        "Remember: use the testing set only *at the end*, after you selected the best model.\n"
      ]
    },
    {
      "cell_type": "code",
      "execution_count": null,
      "metadata": {
        "id": "6nzTWpLGMUEP"
      },
      "outputs": [],
      "source": [
        "from sklearn.datasets import load_wine #load our target dataset\n",
        "\n",
        "#load the dataset\n",
        "dataset = load_wine()\n",
        "\n",
        "#extract X and y\n",
        "X = dataset.data\n",
        "y = dataset.target\n",
        "\n",
        "#split\n",
        "X_train_val, X_test, y_train_val, y_test = train_test_split(X, y, train_size = 0.8, random_state = 123)"
      ]
    }
  ]
}